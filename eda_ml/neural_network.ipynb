{
 "cells": [
  {
   "cell_type": "code",
   "execution_count": 42,
   "metadata": {},
   "outputs": [
    {
     "data": {
      "text/html": [
       "<div>\n",
       "<style scoped>\n",
       "    .dataframe tbody tr th:only-of-type {\n",
       "        vertical-align: middle;\n",
       "    }\n",
       "\n",
       "    .dataframe tbody tr th {\n",
       "        vertical-align: top;\n",
       "    }\n",
       "\n",
       "    .dataframe thead th {\n",
       "        text-align: right;\n",
       "    }\n",
       "</style>\n",
       "<table border=\"1\" class=\"dataframe\">\n",
       "  <thead>\n",
       "    <tr style=\"text-align: right;\">\n",
       "      <th></th>\n",
       "      <th>_index</th>\n",
       "      <th>_type</th>\n",
       "      <th>_id</th>\n",
       "      <th>_score</th>\n",
       "      <th>_source</th>\n",
       "      <th>sort</th>\n",
       "    </tr>\n",
       "  </thead>\n",
       "  <tbody>\n",
       "    <tr>\n",
       "      <th>0</th>\n",
       "      <td>complaint-public-v2</td>\n",
       "      <td>_doc</td>\n",
       "      <td>5471601</td>\n",
       "      <td>NaN</td>\n",
       "      <td>{'product': 'Checking or savings account', 'co...</td>\n",
       "      <td>[16]</td>\n",
       "    </tr>\n",
       "    <tr>\n",
       "      <th>1</th>\n",
       "      <td>complaint-public-v2</td>\n",
       "      <td>_doc</td>\n",
       "      <td>5020019</td>\n",
       "      <td>NaN</td>\n",
       "      <td>{'product': 'Checking or savings account', 'co...</td>\n",
       "      <td>[108]</td>\n",
       "    </tr>\n",
       "    <tr>\n",
       "      <th>2</th>\n",
       "      <td>complaint-public-v2</td>\n",
       "      <td>_doc</td>\n",
       "      <td>7203230</td>\n",
       "      <td>NaN</td>\n",
       "      <td>{'product': 'Vehicle loan or lease', 'complain...</td>\n",
       "      <td>[136]</td>\n",
       "    </tr>\n",
       "    <tr>\n",
       "      <th>3</th>\n",
       "      <td>complaint-public-v2</td>\n",
       "      <td>_doc</td>\n",
       "      <td>3743284</td>\n",
       "      <td>NaN</td>\n",
       "      <td>{'product': 'Checking or savings account', 'co...</td>\n",
       "      <td>[156]</td>\n",
       "    </tr>\n",
       "    <tr>\n",
       "      <th>4</th>\n",
       "      <td>complaint-public-v2</td>\n",
       "      <td>_doc</td>\n",
       "      <td>2927362</td>\n",
       "      <td>NaN</td>\n",
       "      <td>{'product': 'Credit reporting, credit repair s...</td>\n",
       "      <td>[188]</td>\n",
       "    </tr>\n",
       "  </tbody>\n",
       "</table>\n",
       "</div>"
      ],
      "text/plain": [
       "                _index _type      _id  _score  \\\n",
       "0  complaint-public-v2  _doc  5471601     NaN   \n",
       "1  complaint-public-v2  _doc  5020019     NaN   \n",
       "2  complaint-public-v2  _doc  7203230     NaN   \n",
       "3  complaint-public-v2  _doc  3743284     NaN   \n",
       "4  complaint-public-v2  _doc  2927362     NaN   \n",
       "\n",
       "                                             _source   sort  \n",
       "0  {'product': 'Checking or savings account', 'co...   [16]  \n",
       "1  {'product': 'Checking or savings account', 'co...  [108]  \n",
       "2  {'product': 'Vehicle loan or lease', 'complain...  [136]  \n",
       "3  {'product': 'Checking or savings account', 'co...  [156]  \n",
       "4  {'product': 'Credit reporting, credit repair s...  [188]  "
      ]
     },
     "execution_count": 42,
     "metadata": {},
     "output_type": "execute_result"
    }
   ],
   "source": [
    "import pandas as pd\n",
    "\n",
    "# Load the data from the JSON file\n",
    "complaints_data = pd.read_json(\"complaints-2023-08-25_18_02.json\")\n",
    "\n",
    "# Display the first few rows of the data\n",
    "complaints_data.head()"
   ]
  },
  {
   "cell_type": "markdown",
   "metadata": {},
   "source": [
    "load data: narratives of issues of Vehicle loan or lease"
   ]
  },
  {
   "cell_type": "code",
   "execution_count": 43,
   "metadata": {},
   "outputs": [
    {
     "data": {
      "text/html": [
       "<div>\n",
       "<style scoped>\n",
       "    .dataframe tbody tr th:only-of-type {\n",
       "        vertical-align: middle;\n",
       "    }\n",
       "\n",
       "    .dataframe tbody tr th {\n",
       "        vertical-align: top;\n",
       "    }\n",
       "\n",
       "    .dataframe thead th {\n",
       "        text-align: right;\n",
       "    }\n",
       "</style>\n",
       "<table border=\"1\" class=\"dataframe\">\n",
       "  <thead>\n",
       "    <tr style=\"text-align: right;\">\n",
       "      <th></th>\n",
       "      <th>issue</th>\n",
       "      <th>complaint_what_happened</th>\n",
       "    </tr>\n",
       "  </thead>\n",
       "  <tbody>\n",
       "    <tr>\n",
       "      <th>8</th>\n",
       "      <td>Managing the loan or lease</td>\n",
       "      <td>Yes I called ally bank about getting exstentio...</td>\n",
       "    </tr>\n",
       "    <tr>\n",
       "      <th>13</th>\n",
       "      <td>Managing the loan or lease</td>\n",
       "      <td>This issue has persisted for multiple years de...</td>\n",
       "    </tr>\n",
       "    <tr>\n",
       "      <th>17</th>\n",
       "      <td>Getting a loan or lease</td>\n",
       "      <td>I received notice dated XX/XX/2019 from Ally B...</td>\n",
       "    </tr>\n",
       "    <tr>\n",
       "      <th>19</th>\n",
       "      <td>Managing the loan or lease</td>\n",
       "      <td>Shortly after purchasing the vehicle I cancele...</td>\n",
       "    </tr>\n",
       "    <tr>\n",
       "      <th>23</th>\n",
       "      <td>Problems at the end of the loan or lease</td>\n",
       "      <td>Ally Financial was the lender used to lease a ...</td>\n",
       "    </tr>\n",
       "  </tbody>\n",
       "</table>\n",
       "</div>"
      ],
      "text/plain": [
       "                                       issue  \\\n",
       "8                 Managing the loan or lease   \n",
       "13                Managing the loan or lease   \n",
       "17                   Getting a loan or lease   \n",
       "19                Managing the loan or lease   \n",
       "23  Problems at the end of the loan or lease   \n",
       "\n",
       "                              complaint_what_happened  \n",
       "8   Yes I called ally bank about getting exstentio...  \n",
       "13  This issue has persisted for multiple years de...  \n",
       "17  I received notice dated XX/XX/2019 from Ally B...  \n",
       "19  Shortly after purchasing the vehicle I cancele...  \n",
       "23  Ally Financial was the lender used to lease a ...  "
      ]
     },
     "execution_count": 43,
     "metadata": {},
     "output_type": "execute_result"
    }
   ],
   "source": [
    "# Extract the relevant details from the _source column\n",
    "complaints_details = complaints_data['_source'].apply(pd.Series)\n",
    "\n",
    "# Filter entries where product is \"Vehicle loan or lease\"\n",
    "vehicle_complaints = complaints_details[complaints_details['product'] == 'Vehicle loan or lease']\n",
    "\n",
    "# Filter out entries without narratives\n",
    "vehicle_complaints_with_narrative = vehicle_complaints[vehicle_complaints['complaint_what_happened'].notnull()]\n",
    "vehicle_complaints_with_narrative\n",
    "\n",
    "# Retrieve only the issues and the related narratives\n",
    "issues_and_narratives = vehicle_complaints_with_narrative[['issue', 'complaint_what_happened']]\n",
    "issues_and_narratives.head()\n",
    "\n",
    "# Filter out entries with empty narratives\n",
    "cleaned_issues_and_narratives = issues_and_narratives[issues_and_narratives['complaint_what_happened'].str.strip() != \"\"]\n",
    "cleaned_issues_and_narratives.head()"
   ]
  },
  {
   "cell_type": "code",
   "execution_count": 44,
   "metadata": {},
   "outputs": [
    {
     "data": {
      "text/plain": [
       "Managing the loan or lease                                                          612\n",
       "Problems at the end of the loan or lease                                            467\n",
       "Struggling to pay your loan                                                         312\n",
       "Getting a loan or lease                                                             230\n",
       "Incorrect information on your report                                                142\n",
       "Problem with a credit reporting company's investigation into an existing problem     90\n",
       "Improper use of your report                                                          31\n",
       "Credit monitoring or identity theft protection services                               5\n",
       "Unable to get your credit report or credit score                                      2\n",
       "Problem with fraud alerts or security freezes                                         1\n",
       "Name: issue, dtype: int64"
      ]
     },
     "execution_count": 44,
     "metadata": {},
     "output_type": "execute_result"
    }
   ],
   "source": [
    "# Recount the issues after filtering out empty narratives and rank them in descending order\n",
    "cleaned_issue_counts = cleaned_issues_and_narratives['issue'].value_counts()\n",
    "cleaned_issue_counts"
   ]
  },
  {
   "cell_type": "markdown",
   "metadata": {},
   "source": [
    "Step 1: Data Preprocessing"
   ]
  },
  {
   "cell_type": "code",
   "execution_count": 45,
   "metadata": {},
   "outputs": [
    {
     "data": {
      "text/plain": [
       "((1763, 400), (1763, 5))"
      ]
     },
     "execution_count": 45,
     "metadata": {},
     "output_type": "execute_result"
    }
   ],
   "source": [
    "from sklearn.model_selection import train_test_split\n",
    "from tensorflow.keras.preprocessing.text import Tokenizer\n",
    "from tensorflow.keras.preprocessing.sequence import pad_sequences\n",
    "from tensorflow.keras.utils import to_categorical\n",
    "from sklearn.preprocessing import LabelEncoder\n",
    "\n",
    "# 1.1 Select the top 5 issues\n",
    "top_5_issues = cleaned_issue_counts.head(5).index\n",
    "filtered_data = cleaned_issues_and_narratives[cleaned_issues_and_narratives['issue'].isin(top_5_issues)]\n",
    "\n",
    "# 1.2 Tokenize and pad the narratives\n",
    "MAX_WORDS = 20000  # number of words to consider as features\n",
    "MAXLEN = 400  # cut off the texts after this number of words\n",
    "\n",
    "tokenizer = Tokenizer(num_words=MAX_WORDS)\n",
    "tokenizer.fit_on_texts(filtered_data['complaint_what_happened'])\n",
    "sequences = tokenizer.texts_to_sequences(filtered_data['complaint_what_happened'])\n",
    "data_padded = pad_sequences(sequences, maxlen=MAXLEN)\n",
    "\n",
    "# 1.3 Convert issue labels into categorical values\n",
    "label_encoder = LabelEncoder()\n",
    "labels_encoded = label_encoder.fit_transform(filtered_data['issue'])\n",
    "labels_categorical = to_categorical(labels_encoded)\n",
    "\n",
    "data_padded.shape, labels_categorical.shape\n"
   ]
  },
  {
   "cell_type": "markdown",
   "metadata": {},
   "source": [
    "Step 2: Model Building"
   ]
  },
  {
   "cell_type": "markdown",
   "metadata": {},
   "source": [
    "2.1 Model Architecture:\n",
    "\n",
    "Embedding Layer: This layer will convert tokenized words into dense vectors.\n",
    "\n",
    "Dense Layers: A couple of dense layers for further processing.\n",
    "\n",
    "Dropout Layers: To prevent overfitting.\n",
    "\n",
    "Output Layer: With 5 nodes and a softmax activation."
   ]
  },
  {
   "cell_type": "code",
   "execution_count": 46,
   "metadata": {},
   "outputs": [
    {
     "name": "stdout",
     "output_type": "stream",
     "text": [
      "Model: \"sequential_27\"\n",
      "_________________________________________________________________\n",
      " Layer (type)                Output Shape              Param #   \n",
      "=================================================================\n",
      " embedding_27 (Embedding)    (None, 400, 128)          2560000   \n",
      "                                                                 \n",
      " flatten_27 (Flatten)        (None, 51200)             0         \n",
      "                                                                 \n",
      " dense_58 (Dense)            (None, 64)                3276864   \n",
      "                                                                 \n",
      " dropout_31 (Dropout)        (None, 64)                0         \n",
      "                                                                 \n",
      " dense_59 (Dense)            (None, 32)                2080      \n",
      "                                                                 \n",
      " dropout_32 (Dropout)        (None, 32)                0         \n",
      "                                                                 \n",
      " dense_60 (Dense)            (None, 5)                 165       \n",
      "                                                                 \n",
      "=================================================================\n",
      "Total params: 5839109 (22.27 MB)\n",
      "Trainable params: 5839109 (22.27 MB)\n",
      "Non-trainable params: 0 (0.00 Byte)\n",
      "_________________________________________________________________\n"
     ]
    }
   ],
   "source": [
    "import tensorflow as tf\n",
    "from tensorflow.keras.models import Sequential\n",
    "from tensorflow.keras.layers import Embedding, Dense, Dropout, Flatten\n",
    "\n",
    "# Define the model\n",
    "model = Sequential()\n",
    "\n",
    "# Embedding Layer\n",
    "model.add(Embedding(input_dim=MAX_WORDS, output_dim=128, input_length=MAXLEN))\n",
    "\n",
    "# Flatten the 3D tensor of embeddings into a 2D tensor\n",
    "model.add(Flatten())\n",
    "\n",
    "# Dense Layers\n",
    "model.add(Dense(64, activation='relu'))\n",
    "model.add(Dropout(0.7))\n",
    "model.add(Dense(32, activation='relu'))\n",
    "model.add(Dropout(0.7))\n",
    "\n",
    "# Output Layer\n",
    "model.add(Dense(5, activation='softmax'))\n",
    "\n",
    "# Compile the model\n",
    "model.compile(optimizer='adam', loss='categorical_crossentropy', metrics=['accuracy'])\n",
    "\n",
    "model.summary()\n"
   ]
  },
  {
   "cell_type": "markdown",
   "metadata": {},
   "source": [
    "Step 3: Data Splitting\n",
    "\n",
    "Split the data into training, validation, and test sets. We'll use an 80-10-10 split for demonstration."
   ]
  },
  {
   "cell_type": "code",
   "execution_count": 47,
   "metadata": {},
   "outputs": [],
   "source": [
    "from sklearn.model_selection import train_test_split\n",
    "\n",
    "# Splitting data into train, validation, and test sets\n",
    "X_temp, X_test, y_temp, y_test = train_test_split(data_padded, labels_categorical, test_size=0.1, stratify=labels_categorical)\n",
    "X_train, X_val, y_train, y_val = train_test_split(X_temp, y_temp, test_size=0.11, stratify=y_temp)  # 0.11 x 0.9 = 0.099\n"
   ]
  },
  {
   "cell_type": "markdown",
   "metadata": {},
   "source": [
    "Step 4: Model Training\n",
    "\n",
    "Train the model using the training set and validate it with the validation set."
   ]
  },
  {
   "cell_type": "code",
   "execution_count": 48,
   "metadata": {},
   "outputs": [
    {
     "name": "stdout",
     "output_type": "stream",
     "text": [
      "Epoch 1/50\n",
      "45/45 [==============================] - 2s 41ms/step - loss: 1.6356 - accuracy: 0.2906 - val_loss: 1.5490 - val_accuracy: 0.3486\n",
      "Epoch 2/50\n",
      "45/45 [==============================] - 2s 38ms/step - loss: 1.6236 - accuracy: 0.3083 - val_loss: 1.5571 - val_accuracy: 0.3486\n",
      "Epoch 3/50\n",
      "45/45 [==============================] - 2s 38ms/step - loss: 1.5849 - accuracy: 0.3303 - val_loss: 1.5410 - val_accuracy: 0.3486\n",
      "Epoch 4/50\n",
      "45/45 [==============================] - 2s 38ms/step - loss: 1.5414 - accuracy: 0.3381 - val_loss: 1.5180 - val_accuracy: 0.3486\n",
      "Epoch 5/50\n",
      "45/45 [==============================] - 2s 39ms/step - loss: 1.5269 - accuracy: 0.3381 - val_loss: 1.5191 - val_accuracy: 0.3486\n",
      "Epoch 6/50\n",
      "45/45 [==============================] - 2s 40ms/step - loss: 1.4976 - accuracy: 0.3558 - val_loss: 1.4998 - val_accuracy: 0.3486\n",
      "Epoch 7/50\n",
      "45/45 [==============================] - 2s 40ms/step - loss: 1.4870 - accuracy: 0.3402 - val_loss: 1.4877 - val_accuracy: 0.3486\n",
      "Epoch 8/50\n",
      "45/45 [==============================] - 2s 40ms/step - loss: 1.4567 - accuracy: 0.3622 - val_loss: 1.4756 - val_accuracy: 0.3486\n",
      "Epoch 9/50\n",
      "45/45 [==============================] - 2s 41ms/step - loss: 1.4368 - accuracy: 0.3544 - val_loss: 1.4895 - val_accuracy: 0.3486\n",
      "Epoch 10/50\n",
      "45/45 [==============================] - 2s 41ms/step - loss: 1.3979 - accuracy: 0.3777 - val_loss: 1.4808 - val_accuracy: 0.3657\n",
      "Epoch 11/50\n",
      "45/45 [==============================] - 2s 40ms/step - loss: 1.3309 - accuracy: 0.4181 - val_loss: 1.4310 - val_accuracy: 0.3943\n",
      "Epoch 12/50\n",
      "45/45 [==============================] - 2s 40ms/step - loss: 1.2698 - accuracy: 0.4422 - val_loss: 1.3974 - val_accuracy: 0.3943\n",
      "Epoch 13/50\n",
      "45/45 [==============================] - 2s 40ms/step - loss: 1.1748 - accuracy: 0.5103 - val_loss: 1.3848 - val_accuracy: 0.3600\n",
      "Epoch 14/50\n",
      "45/45 [==============================] - 2s 39ms/step - loss: 1.0575 - accuracy: 0.5578 - val_loss: 1.3579 - val_accuracy: 0.4571\n",
      "Epoch 15/50\n",
      "45/45 [==============================] - 2s 39ms/step - loss: 1.0094 - accuracy: 0.6003 - val_loss: 1.3680 - val_accuracy: 0.4171\n",
      "Epoch 16/50\n",
      "45/45 [==============================] - 2s 39ms/step - loss: 0.9219 - accuracy: 0.6251 - val_loss: 1.3164 - val_accuracy: 0.4343\n",
      "Epoch 17/50\n",
      "45/45 [==============================] - 2s 39ms/step - loss: 0.8749 - accuracy: 0.6534 - val_loss: 1.3216 - val_accuracy: 0.4400\n",
      "Epoch 18/50\n",
      "45/45 [==============================] - 2s 39ms/step - loss: 0.7908 - accuracy: 0.6931 - val_loss: 1.3256 - val_accuracy: 0.4514\n",
      "Epoch 19/50\n",
      "45/45 [==============================] - 2s 39ms/step - loss: 0.7486 - accuracy: 0.7151 - val_loss: 1.3304 - val_accuracy: 0.4457\n",
      "Epoch 20/50\n",
      "45/45 [==============================] - 2s 39ms/step - loss: 0.6729 - accuracy: 0.7484 - val_loss: 1.3252 - val_accuracy: 0.4457\n",
      "Epoch 21/50\n",
      "45/45 [==============================] - 2s 39ms/step - loss: 0.5921 - accuracy: 0.7768 - val_loss: 1.3080 - val_accuracy: 0.4286\n",
      "Epoch 22/50\n",
      "45/45 [==============================] - 2s 39ms/step - loss: 0.5529 - accuracy: 0.7959 - val_loss: 1.3231 - val_accuracy: 0.4629\n",
      "Epoch 23/50\n",
      "45/45 [==============================] - 2s 39ms/step - loss: 0.5510 - accuracy: 0.7966 - val_loss: 1.3890 - val_accuracy: 0.4057\n",
      "Epoch 24/50\n",
      "45/45 [==============================] - 2s 39ms/step - loss: 0.5032 - accuracy: 0.8051 - val_loss: 1.3159 - val_accuracy: 0.4743\n",
      "Epoch 25/50\n",
      "45/45 [==============================] - 2s 40ms/step - loss: 0.4583 - accuracy: 0.8313 - val_loss: 1.3508 - val_accuracy: 0.4400\n",
      "Epoch 26/50\n",
      "45/45 [==============================] - 2s 40ms/step - loss: 0.4379 - accuracy: 0.8335 - val_loss: 1.3825 - val_accuracy: 0.4743\n",
      "Epoch 27/50\n",
      "45/45 [==============================] - 2s 39ms/step - loss: 0.4399 - accuracy: 0.8207 - val_loss: 1.4106 - val_accuracy: 0.4457\n",
      "Epoch 28/50\n",
      "45/45 [==============================] - 2s 39ms/step - loss: 0.3966 - accuracy: 0.8427 - val_loss: 1.4327 - val_accuracy: 0.4686\n",
      "Epoch 29/50\n",
      "45/45 [==============================] - 2s 39ms/step - loss: 0.3694 - accuracy: 0.8568 - val_loss: 1.5223 - val_accuracy: 0.4457\n",
      "Epoch 30/50\n",
      "45/45 [==============================] - 2s 39ms/step - loss: 0.3872 - accuracy: 0.8583 - val_loss: 1.4783 - val_accuracy: 0.4400\n",
      "Epoch 31/50\n",
      "45/45 [==============================] - 2s 40ms/step - loss: 0.3291 - accuracy: 0.8682 - val_loss: 1.4944 - val_accuracy: 0.4400\n",
      "Epoch 32/50\n",
      "45/45 [==============================] - 2s 39ms/step - loss: 0.3119 - accuracy: 0.8682 - val_loss: 1.5521 - val_accuracy: 0.4457\n",
      "Epoch 33/50\n",
      "45/45 [==============================] - 2s 39ms/step - loss: 0.3215 - accuracy: 0.8653 - val_loss: 1.5644 - val_accuracy: 0.4400\n",
      "Epoch 34/50\n",
      "45/45 [==============================] - 2s 39ms/step - loss: 0.3031 - accuracy: 0.8809 - val_loss: 1.6105 - val_accuracy: 0.4686\n",
      "Epoch 35/50\n",
      "45/45 [==============================] - 2s 40ms/step - loss: 0.2924 - accuracy: 0.8824 - val_loss: 1.6176 - val_accuracy: 0.4400\n",
      "Epoch 36/50\n",
      "45/45 [==============================] - 2s 39ms/step - loss: 0.2836 - accuracy: 0.8767 - val_loss: 1.4465 - val_accuracy: 0.5029\n",
      "Epoch 37/50\n",
      "45/45 [==============================] - 2s 39ms/step - loss: 0.2551 - accuracy: 0.9001 - val_loss: 1.6135 - val_accuracy: 0.4286\n",
      "Epoch 38/50\n",
      "45/45 [==============================] - 2s 39ms/step - loss: 0.2749 - accuracy: 0.9001 - val_loss: 1.5365 - val_accuracy: 0.4571\n",
      "Epoch 39/50\n",
      "45/45 [==============================] - 2s 39ms/step - loss: 0.2706 - accuracy: 0.8887 - val_loss: 1.5432 - val_accuracy: 0.4457\n",
      "Epoch 40/50\n",
      "45/45 [==============================] - 2s 40ms/step - loss: 0.2809 - accuracy: 0.8965 - val_loss: 1.6130 - val_accuracy: 0.4686\n",
      "Epoch 41/50\n",
      "45/45 [==============================] - 2s 39ms/step - loss: 0.2598 - accuracy: 0.9043 - val_loss: 1.6674 - val_accuracy: 0.4400\n",
      "Epoch 42/50\n",
      "45/45 [==============================] - 2s 40ms/step - loss: 0.2431 - accuracy: 0.8994 - val_loss: 1.6869 - val_accuracy: 0.4343\n",
      "Epoch 43/50\n",
      "45/45 [==============================] - 2s 39ms/step - loss: 0.2574 - accuracy: 0.8994 - val_loss: 1.7124 - val_accuracy: 0.4571\n",
      "Epoch 44/50\n",
      "45/45 [==============================] - 2s 39ms/step - loss: 0.2420 - accuracy: 0.9015 - val_loss: 1.6853 - val_accuracy: 0.4686\n",
      "Epoch 45/50\n",
      "45/45 [==============================] - 2s 39ms/step - loss: 0.2182 - accuracy: 0.9093 - val_loss: 1.7488 - val_accuracy: 0.4686\n",
      "Epoch 46/50\n",
      "45/45 [==============================] - 2s 39ms/step - loss: 0.2340 - accuracy: 0.9270 - val_loss: 1.6155 - val_accuracy: 0.4743\n",
      "Epoch 47/50\n",
      "45/45 [==============================] - 2s 40ms/step - loss: 0.2069 - accuracy: 0.9114 - val_loss: 1.6222 - val_accuracy: 0.4914\n",
      "Epoch 48/50\n",
      "45/45 [==============================] - 2s 39ms/step - loss: 0.1917 - accuracy: 0.9199 - val_loss: 1.6423 - val_accuracy: 0.4571\n",
      "Epoch 49/50\n",
      "45/45 [==============================] - 2s 39ms/step - loss: 0.2049 - accuracy: 0.9206 - val_loss: 1.7978 - val_accuracy: 0.4571\n",
      "Epoch 50/50\n",
      "45/45 [==============================] - 2s 39ms/step - loss: 0.2093 - accuracy: 0.9142 - val_loss: 1.6970 - val_accuracy: 0.4743\n"
     ]
    }
   ],
   "source": [
    "# Train the model\n",
    "history = model.fit(X_train, y_train, epochs=50, batch_size=32, validation_data=(X_val, y_val))"
   ]
  },
  {
   "cell_type": "markdown",
   "metadata": {},
   "source": [
    "Step 5: Evaluation\n",
    "\n",
    "Evaluate the model's performance on the test set."
   ]
  },
  {
   "cell_type": "code",
   "execution_count": 50,
   "metadata": {},
   "outputs": [
    {
     "name": "stdout",
     "output_type": "stream",
     "text": [
      "6/6 [==============================] - 0s 5ms/step - loss: 1.9982 - accuracy: 0.4689\n",
      "Test Accuracy: 46.89%\n"
     ]
    }
   ],
   "source": [
    "# Evaluate the model on the test set\n",
    "test_loss, test_accuracy = model.evaluate(X_test, y_test)\n",
    "print(f\"Test Accuracy: {test_accuracy*100:.2f}%\")"
   ]
  }
 ],
 "metadata": {
  "kernelspec": {
   "display_name": "base",
   "language": "python",
   "name": "python3"
  },
  "language_info": {
   "codemirror_mode": {
    "name": "ipython",
    "version": 3
   },
   "file_extension": ".py",
   "mimetype": "text/x-python",
   "name": "python",
   "nbconvert_exporter": "python",
   "pygments_lexer": "ipython3",
   "version": "3.11.4"
  },
  "orig_nbformat": 4
 },
 "nbformat": 4,
 "nbformat_minor": 2
}
