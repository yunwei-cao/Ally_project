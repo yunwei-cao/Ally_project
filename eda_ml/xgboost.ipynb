{
 "cells": [
  {
   "cell_type": "code",
   "execution_count": 1,
   "metadata": {},
   "outputs": [
    {
     "data": {
      "text/html": [
       "<div>\n",
       "<style scoped>\n",
       "    .dataframe tbody tr th:only-of-type {\n",
       "        vertical-align: middle;\n",
       "    }\n",
       "\n",
       "    .dataframe tbody tr th {\n",
       "        vertical-align: top;\n",
       "    }\n",
       "\n",
       "    .dataframe thead th {\n",
       "        text-align: right;\n",
       "    }\n",
       "</style>\n",
       "<table border=\"1\" class=\"dataframe\">\n",
       "  <thead>\n",
       "    <tr style=\"text-align: right;\">\n",
       "      <th></th>\n",
       "      <th>_index</th>\n",
       "      <th>_type</th>\n",
       "      <th>_id</th>\n",
       "      <th>_score</th>\n",
       "      <th>_source</th>\n",
       "      <th>sort</th>\n",
       "    </tr>\n",
       "  </thead>\n",
       "  <tbody>\n",
       "    <tr>\n",
       "      <th>0</th>\n",
       "      <td>complaint-public-v2</td>\n",
       "      <td>_doc</td>\n",
       "      <td>5471601</td>\n",
       "      <td>NaN</td>\n",
       "      <td>{'product': 'Checking or savings account', 'co...</td>\n",
       "      <td>[16]</td>\n",
       "    </tr>\n",
       "    <tr>\n",
       "      <th>1</th>\n",
       "      <td>complaint-public-v2</td>\n",
       "      <td>_doc</td>\n",
       "      <td>5020019</td>\n",
       "      <td>NaN</td>\n",
       "      <td>{'product': 'Checking or savings account', 'co...</td>\n",
       "      <td>[108]</td>\n",
       "    </tr>\n",
       "    <tr>\n",
       "      <th>2</th>\n",
       "      <td>complaint-public-v2</td>\n",
       "      <td>_doc</td>\n",
       "      <td>7203230</td>\n",
       "      <td>NaN</td>\n",
       "      <td>{'product': 'Vehicle loan or lease', 'complain...</td>\n",
       "      <td>[136]</td>\n",
       "    </tr>\n",
       "    <tr>\n",
       "      <th>3</th>\n",
       "      <td>complaint-public-v2</td>\n",
       "      <td>_doc</td>\n",
       "      <td>3743284</td>\n",
       "      <td>NaN</td>\n",
       "      <td>{'product': 'Checking or savings account', 'co...</td>\n",
       "      <td>[156]</td>\n",
       "    </tr>\n",
       "    <tr>\n",
       "      <th>4</th>\n",
       "      <td>complaint-public-v2</td>\n",
       "      <td>_doc</td>\n",
       "      <td>2927362</td>\n",
       "      <td>NaN</td>\n",
       "      <td>{'product': 'Credit reporting, credit repair s...</td>\n",
       "      <td>[188]</td>\n",
       "    </tr>\n",
       "  </tbody>\n",
       "</table>\n",
       "</div>"
      ],
      "text/plain": [
       "                _index _type      _id  _score  \\\n",
       "0  complaint-public-v2  _doc  5471601     NaN   \n",
       "1  complaint-public-v2  _doc  5020019     NaN   \n",
       "2  complaint-public-v2  _doc  7203230     NaN   \n",
       "3  complaint-public-v2  _doc  3743284     NaN   \n",
       "4  complaint-public-v2  _doc  2927362     NaN   \n",
       "\n",
       "                                             _source   sort  \n",
       "0  {'product': 'Checking or savings account', 'co...   [16]  \n",
       "1  {'product': 'Checking or savings account', 'co...  [108]  \n",
       "2  {'product': 'Vehicle loan or lease', 'complain...  [136]  \n",
       "3  {'product': 'Checking or savings account', 'co...  [156]  \n",
       "4  {'product': 'Credit reporting, credit repair s...  [188]  "
      ]
     },
     "execution_count": 1,
     "metadata": {},
     "output_type": "execute_result"
    }
   ],
   "source": [
    "import pandas as pd\n",
    "\n",
    "# Load the data from the JSON file\n",
    "complaints_data = pd.read_json(\"complaints-2023-08-25_18_02.json\")\n",
    "\n",
    "# Display the first few rows of the data\n",
    "complaints_data.head()"
   ]
  },
  {
   "cell_type": "code",
   "execution_count": 2,
   "metadata": {},
   "outputs": [
    {
     "data": {
      "text/html": [
       "<div>\n",
       "<style scoped>\n",
       "    .dataframe tbody tr th:only-of-type {\n",
       "        vertical-align: middle;\n",
       "    }\n",
       "\n",
       "    .dataframe tbody tr th {\n",
       "        vertical-align: top;\n",
       "    }\n",
       "\n",
       "    .dataframe thead th {\n",
       "        text-align: right;\n",
       "    }\n",
       "</style>\n",
       "<table border=\"1\" class=\"dataframe\">\n",
       "  <thead>\n",
       "    <tr style=\"text-align: right;\">\n",
       "      <th></th>\n",
       "      <th>issue</th>\n",
       "      <th>complaint_what_happened</th>\n",
       "    </tr>\n",
       "  </thead>\n",
       "  <tbody>\n",
       "    <tr>\n",
       "      <th>8</th>\n",
       "      <td>Managing the loan or lease</td>\n",
       "      <td>Yes I called ally bank about getting exstentio...</td>\n",
       "    </tr>\n",
       "    <tr>\n",
       "      <th>13</th>\n",
       "      <td>Managing the loan or lease</td>\n",
       "      <td>This issue has persisted for multiple years de...</td>\n",
       "    </tr>\n",
       "    <tr>\n",
       "      <th>17</th>\n",
       "      <td>Getting a loan or lease</td>\n",
       "      <td>I received notice dated XX/XX/2019 from Ally B...</td>\n",
       "    </tr>\n",
       "    <tr>\n",
       "      <th>19</th>\n",
       "      <td>Managing the loan or lease</td>\n",
       "      <td>Shortly after purchasing the vehicle I cancele...</td>\n",
       "    </tr>\n",
       "    <tr>\n",
       "      <th>23</th>\n",
       "      <td>Problems at the end of the loan or lease</td>\n",
       "      <td>Ally Financial was the lender used to lease a ...</td>\n",
       "    </tr>\n",
       "  </tbody>\n",
       "</table>\n",
       "</div>"
      ],
      "text/plain": [
       "                                       issue  \\\n",
       "8                 Managing the loan or lease   \n",
       "13                Managing the loan or lease   \n",
       "17                   Getting a loan or lease   \n",
       "19                Managing the loan or lease   \n",
       "23  Problems at the end of the loan or lease   \n",
       "\n",
       "                              complaint_what_happened  \n",
       "8   Yes I called ally bank about getting exstentio...  \n",
       "13  This issue has persisted for multiple years de...  \n",
       "17  I received notice dated XX/XX/2019 from Ally B...  \n",
       "19  Shortly after purchasing the vehicle I cancele...  \n",
       "23  Ally Financial was the lender used to lease a ...  "
      ]
     },
     "execution_count": 2,
     "metadata": {},
     "output_type": "execute_result"
    }
   ],
   "source": [
    "# Extract the relevant details from the _source column\n",
    "complaints_details = complaints_data['_source'].apply(pd.Series)\n",
    "\n",
    "# Filter entries where product is \"Vehicle loan or lease\"\n",
    "vehicle_complaints = complaints_details[complaints_details['product'] == 'Vehicle loan or lease']\n",
    "\n",
    "# Filter out entries without narratives\n",
    "vehicle_complaints_with_narrative = vehicle_complaints[vehicle_complaints['complaint_what_happened'].notnull()]\n",
    "vehicle_complaints_with_narrative\n",
    "\n",
    "# Retrieve only the issues and the related narratives\n",
    "issues_and_narratives = vehicle_complaints_with_narrative[['issue', 'complaint_what_happened']]\n",
    "issues_and_narratives.head()\n",
    "\n",
    "# Filter out entries with empty narratives\n",
    "cleaned_issues_and_narratives = issues_and_narratives[issues_and_narratives['complaint_what_happened'].str.strip() != \"\"]\n",
    "cleaned_issues_and_narratives.head()"
   ]
  },
  {
   "cell_type": "code",
   "execution_count": 3,
   "metadata": {},
   "outputs": [
    {
     "data": {
      "text/plain": [
       "Managing the loan or lease                                                          612\n",
       "Problems at the end of the loan or lease                                            467\n",
       "Struggling to pay your loan                                                         312\n",
       "Getting a loan or lease                                                             230\n",
       "Incorrect information on your report                                                142\n",
       "Problem with a credit reporting company's investigation into an existing problem     90\n",
       "Improper use of your report                                                          31\n",
       "Credit monitoring or identity theft protection services                               5\n",
       "Unable to get your credit report or credit score                                      2\n",
       "Problem with fraud alerts or security freezes                                         1\n",
       "Name: issue, dtype: int64"
      ]
     },
     "execution_count": 3,
     "metadata": {},
     "output_type": "execute_result"
    }
   ],
   "source": [
    "# Recount the issues after filtering out empty narratives and rank them in descending order\n",
    "cleaned_issue_counts = cleaned_issues_and_narratives['issue'].value_counts()\n",
    "cleaned_issue_counts"
   ]
  },
  {
   "cell_type": "code",
   "execution_count": 4,
   "metadata": {},
   "outputs": [
    {
     "data": {
      "text/html": [
       "<div>\n",
       "<style scoped>\n",
       "    .dataframe tbody tr th:only-of-type {\n",
       "        vertical-align: middle;\n",
       "    }\n",
       "\n",
       "    .dataframe tbody tr th {\n",
       "        vertical-align: top;\n",
       "    }\n",
       "\n",
       "    .dataframe thead th {\n",
       "        text-align: right;\n",
       "    }\n",
       "</style>\n",
       "<table border=\"1\" class=\"dataframe\">\n",
       "  <thead>\n",
       "    <tr style=\"text-align: right;\">\n",
       "      <th></th>\n",
       "      <th>issue</th>\n",
       "      <th>complaint_what_happened</th>\n",
       "    </tr>\n",
       "  </thead>\n",
       "  <tbody>\n",
       "    <tr>\n",
       "      <th>8</th>\n",
       "      <td>Managing the loan or lease</td>\n",
       "      <td>Yes I called ally bank about getting exstentio...</td>\n",
       "    </tr>\n",
       "    <tr>\n",
       "      <th>13</th>\n",
       "      <td>Managing the loan or lease</td>\n",
       "      <td>This issue has persisted for multiple years de...</td>\n",
       "    </tr>\n",
       "    <tr>\n",
       "      <th>17</th>\n",
       "      <td>Getting a loan or lease</td>\n",
       "      <td>I received notice dated XX/XX/2019 from Ally B...</td>\n",
       "    </tr>\n",
       "    <tr>\n",
       "      <th>19</th>\n",
       "      <td>Managing the loan or lease</td>\n",
       "      <td>Shortly after purchasing the vehicle I cancele...</td>\n",
       "    </tr>\n",
       "    <tr>\n",
       "      <th>23</th>\n",
       "      <td>Problems at the end of the loan or lease</td>\n",
       "      <td>Ally Financial was the lender used to lease a ...</td>\n",
       "    </tr>\n",
       "    <tr>\n",
       "      <th>...</th>\n",
       "      <td>...</td>\n",
       "      <td>...</td>\n",
       "    </tr>\n",
       "    <tr>\n",
       "      <th>14950</th>\n",
       "      <td>Managing the loan or lease</td>\n",
       "      <td>Major, FRAUDULENT Billing Errors, with : ALLY ...</td>\n",
       "    </tr>\n",
       "    <tr>\n",
       "      <th>14958</th>\n",
       "      <td>Managing the loan or lease</td>\n",
       "      <td>My car in XXXX was Fanancial by ally they call...</td>\n",
       "    </tr>\n",
       "    <tr>\n",
       "      <th>14968</th>\n",
       "      <td>Managing the loan or lease</td>\n",
       "      <td>Purchased a XXXX XXXX XXXX in XXXX of XX/XX/XX...</td>\n",
       "    </tr>\n",
       "    <tr>\n",
       "      <th>14985</th>\n",
       "      <td>Struggling to pay your loan</td>\n",
       "      <td>Ally Financial contacted my neighbors, to whom...</td>\n",
       "    </tr>\n",
       "    <tr>\n",
       "      <th>14994</th>\n",
       "      <td>Managing the loan or lease</td>\n",
       "      <td>I had a loan through Ally for a used XXXX XXXX...</td>\n",
       "    </tr>\n",
       "  </tbody>\n",
       "</table>\n",
       "<p>1763 rows × 2 columns</p>\n",
       "</div>"
      ],
      "text/plain": [
       "                                          issue  \\\n",
       "8                    Managing the loan or lease   \n",
       "13                   Managing the loan or lease   \n",
       "17                      Getting a loan or lease   \n",
       "19                   Managing the loan or lease   \n",
       "23     Problems at the end of the loan or lease   \n",
       "...                                         ...   \n",
       "14950                Managing the loan or lease   \n",
       "14958                Managing the loan or lease   \n",
       "14968                Managing the loan or lease   \n",
       "14985               Struggling to pay your loan   \n",
       "14994                Managing the loan or lease   \n",
       "\n",
       "                                 complaint_what_happened  \n",
       "8      Yes I called ally bank about getting exstentio...  \n",
       "13     This issue has persisted for multiple years de...  \n",
       "17     I received notice dated XX/XX/2019 from Ally B...  \n",
       "19     Shortly after purchasing the vehicle I cancele...  \n",
       "23     Ally Financial was the lender used to lease a ...  \n",
       "...                                                  ...  \n",
       "14950  Major, FRAUDULENT Billing Errors, with : ALLY ...  \n",
       "14958  My car in XXXX was Fanancial by ally they call...  \n",
       "14968  Purchased a XXXX XXXX XXXX in XXXX of XX/XX/XX...  \n",
       "14985  Ally Financial contacted my neighbors, to whom...  \n",
       "14994  I had a loan through Ally for a used XXXX XXXX...  \n",
       "\n",
       "[1763 rows x 2 columns]"
      ]
     },
     "execution_count": 4,
     "metadata": {},
     "output_type": "execute_result"
    }
   ],
   "source": [
    "# 1.1 Select the top 5 issues\n",
    "top_5_issues = cleaned_issue_counts.head(5).index\n",
    "filtered_data = cleaned_issues_and_narratives[cleaned_issues_and_narratives['issue'].isin(top_5_issues)]\n",
    "filtered_data"
   ]
  },
  {
   "cell_type": "code",
   "execution_count": 5,
   "metadata": {},
   "outputs": [],
   "source": [
    "from sklearn.model_selection import train_test_split\n",
    "from sklearn.feature_extraction.text import TfidfVectorizer\n",
    "\n",
    "# Split the data into training and test sets\n",
    "X = filtered_data['complaint_what_happened']\n",
    "y = filtered_data['issue']"
   ]
  },
  {
   "cell_type": "code",
   "execution_count": 6,
   "metadata": {},
   "outputs": [
    {
     "data": {
      "text/plain": [
       "((1057, 5000), (353, 5000), (353, 5000))"
      ]
     },
     "execution_count": 6,
     "metadata": {},
     "output_type": "execute_result"
    }
   ],
   "source": [
    "from sklearn.model_selection import train_test_split\n",
    "\n",
    "# Split the data into train, validation, and test sets\n",
    "# First, let's split the data into training (60%) and temp (40%)\n",
    "X_train_temp, X_temp, y_train_temp, y_temp = train_test_split(X, y, test_size=0.4, random_state=42, stratify=y)\n",
    "\n",
    "# Next, we'll split the temp data into validation (20%) and test (20%)\n",
    "X_val, X_test, y_val, y_test = train_test_split(X_temp, y_temp, test_size=0.5, random_state=42, stratify=y_temp)\n",
    "\n",
    "# Initialize the TF-IDF Vectorizer\n",
    "tfidf_vectorizer = TfidfVectorizer(stop_words='english', max_features=5000)\n",
    "\n",
    "# Fit and transform the training data\n",
    "X_train_tfidf = tfidf_vectorizer.fit_transform(X_train_temp)\n",
    "\n",
    "# Transform the validation and test data\n",
    "X_val_tfidf = tfidf_vectorizer.transform(X_val)\n",
    "X_test_tfidf = tfidf_vectorizer.transform(X_test)\n",
    "\n",
    "# Show the shape of resulting TF-IDF matrices\n",
    "X_train_tfidf.shape, X_val_tfidf.shape, X_test_tfidf.shape\n"
   ]
  },
  {
   "cell_type": "code",
   "execution_count": 8,
   "metadata": {},
   "outputs": [],
   "source": [
    "from sklearn.preprocessing import LabelEncoder\n",
    "\n",
    "# Initialize the label encoder\n",
    "le = LabelEncoder()\n",
    "\n",
    "# Fit and transform the labels\n",
    "y_train_temp_encoded = le.fit_transform(y_train_temp)\n",
    "y_val_encoded = le.transform(y_val)\n",
    "y_test_encoded = le.transform(y_test)\n"
   ]
  },
  {
   "cell_type": "code",
   "execution_count": 9,
   "metadata": {},
   "outputs": [
    {
     "name": "stderr",
     "output_type": "stream",
     "text": [
      "c:\\Users\\yunwe\\anaconda3\\Lib\\site-packages\\xgboost\\sklearn.py:1395: UserWarning: `use_label_encoder` is deprecated in 1.7.0.\n",
      "  warnings.warn(\"`use_label_encoder` is deprecated in 1.7.0.\")\n",
      "c:\\Users\\yunwe\\anaconda3\\Lib\\site-packages\\xgboost\\sklearn.py:1395: UserWarning: `use_label_encoder` is deprecated in 1.7.0.\n",
      "  warnings.warn(\"`use_label_encoder` is deprecated in 1.7.0.\")\n",
      "c:\\Users\\yunwe\\anaconda3\\Lib\\site-packages\\xgboost\\sklearn.py:1395: UserWarning: `use_label_encoder` is deprecated in 1.7.0.\n",
      "  warnings.warn(\"`use_label_encoder` is deprecated in 1.7.0.\")\n"
     ]
    },
    {
     "name": "stdout",
     "output_type": "stream",
     "text": [
      "Fitting 3 folds for each of 243 candidates, totalling 729 fits\n"
     ]
    },
    {
     "data": {
      "text/plain": [
       "{'colsample_bytree': 0.5,\n",
       " 'learning_rate': 0.1,\n",
       " 'max_depth': 10,\n",
       " 'n_estimators': 100,\n",
       " 'subsample': 1.0}"
      ]
     },
     "execution_count": 9,
     "metadata": {},
     "output_type": "execute_result"
    }
   ],
   "source": [
    "from xgboost import XGBClassifier\n",
    "from sklearn.model_selection import GridSearchCV\n",
    "\n",
    "# Define the parameter grid for XGBoost\n",
    "xgb_param_grid = {\n",
    "    'learning_rate': [0.01, 0.1, 0.2],\n",
    "    'n_estimators': [50, 100, 200],\n",
    "    'max_depth': [3, 6, 10],\n",
    "    'subsample': [0.5, 0.8, 1.0],\n",
    "    'colsample_bytree': [0.3, 0.5, 0.7]\n",
    "}\n",
    "\n",
    "# Initialize the XGBClassifier\n",
    "xgb = XGBClassifier(use_label_encoder=False, eval_metric='mlogloss', random_state=42)\n",
    "\n",
    "# Initialize GridSearchCV\n",
    "xgb_grid_search = GridSearchCV(estimator=xgb, param_grid=xgb_param_grid, \n",
    "                               cv=3, n_jobs=-1, verbose=2, scoring='accuracy')\n",
    "\n",
    "# Fit the model\n",
    "xgb_grid_search.fit(X_train_tfidf, y_train_temp_encoded)\n",
    "\n",
    "# Get the best parameters\n",
    "xgb_best_params = xgb_grid_search.best_params_\n",
    "xgb_best_params\n"
   ]
  },
  {
   "cell_type": "code",
   "execution_count": 10,
   "metadata": {},
   "outputs": [],
   "source": [
    "best_xgb = XGBClassifier(\n",
    "    colsample_bytree=0.5,\n",
    "    learning_rate=0.1,\n",
    "    max_depth=10,\n",
    "    n_estimators=100,\n",
    "    subsample=1.0,\n",
    "    use_label_encoder=False,\n",
    "    eval_metric='mlogloss',\n",
    "    random_state=42\n",
    ")"
   ]
  },
  {
   "cell_type": "code",
   "execution_count": 11,
   "metadata": {},
   "outputs": [
    {
     "data": {
      "text/html": [
       "<style>#sk-container-id-1 {color: black;}#sk-container-id-1 pre{padding: 0;}#sk-container-id-1 div.sk-toggleable {background-color: white;}#sk-container-id-1 label.sk-toggleable__label {cursor: pointer;display: block;width: 100%;margin-bottom: 0;padding: 0.3em;box-sizing: border-box;text-align: center;}#sk-container-id-1 label.sk-toggleable__label-arrow:before {content: \"▸\";float: left;margin-right: 0.25em;color: #696969;}#sk-container-id-1 label.sk-toggleable__label-arrow:hover:before {color: black;}#sk-container-id-1 div.sk-estimator:hover label.sk-toggleable__label-arrow:before {color: black;}#sk-container-id-1 div.sk-toggleable__content {max-height: 0;max-width: 0;overflow: hidden;text-align: left;background-color: #f0f8ff;}#sk-container-id-1 div.sk-toggleable__content pre {margin: 0.2em;color: black;border-radius: 0.25em;background-color: #f0f8ff;}#sk-container-id-1 input.sk-toggleable__control:checked~div.sk-toggleable__content {max-height: 200px;max-width: 100%;overflow: auto;}#sk-container-id-1 input.sk-toggleable__control:checked~label.sk-toggleable__label-arrow:before {content: \"▾\";}#sk-container-id-1 div.sk-estimator input.sk-toggleable__control:checked~label.sk-toggleable__label {background-color: #d4ebff;}#sk-container-id-1 div.sk-label input.sk-toggleable__control:checked~label.sk-toggleable__label {background-color: #d4ebff;}#sk-container-id-1 input.sk-hidden--visually {border: 0;clip: rect(1px 1px 1px 1px);clip: rect(1px, 1px, 1px, 1px);height: 1px;margin: -1px;overflow: hidden;padding: 0;position: absolute;width: 1px;}#sk-container-id-1 div.sk-estimator {font-family: monospace;background-color: #f0f8ff;border: 1px dotted black;border-radius: 0.25em;box-sizing: border-box;margin-bottom: 0.5em;}#sk-container-id-1 div.sk-estimator:hover {background-color: #d4ebff;}#sk-container-id-1 div.sk-parallel-item::after {content: \"\";width: 100%;border-bottom: 1px solid gray;flex-grow: 1;}#sk-container-id-1 div.sk-label:hover label.sk-toggleable__label {background-color: #d4ebff;}#sk-container-id-1 div.sk-serial::before {content: \"\";position: absolute;border-left: 1px solid gray;box-sizing: border-box;top: 0;bottom: 0;left: 50%;z-index: 0;}#sk-container-id-1 div.sk-serial {display: flex;flex-direction: column;align-items: center;background-color: white;padding-right: 0.2em;padding-left: 0.2em;position: relative;}#sk-container-id-1 div.sk-item {position: relative;z-index: 1;}#sk-container-id-1 div.sk-parallel {display: flex;align-items: stretch;justify-content: center;background-color: white;position: relative;}#sk-container-id-1 div.sk-item::before, #sk-container-id-1 div.sk-parallel-item::before {content: \"\";position: absolute;border-left: 1px solid gray;box-sizing: border-box;top: 0;bottom: 0;left: 50%;z-index: -1;}#sk-container-id-1 div.sk-parallel-item {display: flex;flex-direction: column;z-index: 1;position: relative;background-color: white;}#sk-container-id-1 div.sk-parallel-item:first-child::after {align-self: flex-end;width: 50%;}#sk-container-id-1 div.sk-parallel-item:last-child::after {align-self: flex-start;width: 50%;}#sk-container-id-1 div.sk-parallel-item:only-child::after {width: 0;}#sk-container-id-1 div.sk-dashed-wrapped {border: 1px dashed gray;margin: 0 0.4em 0.5em 0.4em;box-sizing: border-box;padding-bottom: 0.4em;background-color: white;}#sk-container-id-1 div.sk-label label {font-family: monospace;font-weight: bold;display: inline-block;line-height: 1.2em;}#sk-container-id-1 div.sk-label-container {text-align: center;}#sk-container-id-1 div.sk-container {/* jupyter's `normalize.less` sets `[hidden] { display: none; }` but bootstrap.min.css set `[hidden] { display: none !important; }` so we also need the `!important` here to be able to override the default hidden behavior on the sphinx rendered scikit-learn.org. See: https://github.com/scikit-learn/scikit-learn/issues/21755 */display: inline-block !important;position: relative;}#sk-container-id-1 div.sk-text-repr-fallback {display: none;}</style><div id=\"sk-container-id-1\" class=\"sk-top-container\"><div class=\"sk-text-repr-fallback\"><pre>XGBClassifier(base_score=None, booster=None, callbacks=None,\n",
       "              colsample_bylevel=None, colsample_bynode=None,\n",
       "              colsample_bytree=0.5, early_stopping_rounds=None,\n",
       "              enable_categorical=False, eval_metric=&#x27;mlogloss&#x27;,\n",
       "              feature_types=None, gamma=None, gpu_id=None, grow_policy=None,\n",
       "              importance_type=None, interaction_constraints=None,\n",
       "              learning_rate=0.1, max_bin=None, max_cat_threshold=None,\n",
       "              max_cat_to_onehot=None, max_delta_step=None, max_depth=10,\n",
       "              max_leaves=None, min_child_weight=None, missing=nan,\n",
       "              monotone_constraints=None, n_estimators=100, n_jobs=None,\n",
       "              num_parallel_tree=None, objective=&#x27;multi:softprob&#x27;,\n",
       "              predictor=None, ...)</pre><b>In a Jupyter environment, please rerun this cell to show the HTML representation or trust the notebook. <br />On GitHub, the HTML representation is unable to render, please try loading this page with nbviewer.org.</b></div><div class=\"sk-container\" hidden><div class=\"sk-item\"><div class=\"sk-estimator sk-toggleable\"><input class=\"sk-toggleable__control sk-hidden--visually\" id=\"sk-estimator-id-1\" type=\"checkbox\" checked><label for=\"sk-estimator-id-1\" class=\"sk-toggleable__label sk-toggleable__label-arrow\">XGBClassifier</label><div class=\"sk-toggleable__content\"><pre>XGBClassifier(base_score=None, booster=None, callbacks=None,\n",
       "              colsample_bylevel=None, colsample_bynode=None,\n",
       "              colsample_bytree=0.5, early_stopping_rounds=None,\n",
       "              enable_categorical=False, eval_metric=&#x27;mlogloss&#x27;,\n",
       "              feature_types=None, gamma=None, gpu_id=None, grow_policy=None,\n",
       "              importance_type=None, interaction_constraints=None,\n",
       "              learning_rate=0.1, max_bin=None, max_cat_threshold=None,\n",
       "              max_cat_to_onehot=None, max_delta_step=None, max_depth=10,\n",
       "              max_leaves=None, min_child_weight=None, missing=nan,\n",
       "              monotone_constraints=None, n_estimators=100, n_jobs=None,\n",
       "              num_parallel_tree=None, objective=&#x27;multi:softprob&#x27;,\n",
       "              predictor=None, ...)</pre></div></div></div></div></div>"
      ],
      "text/plain": [
       "XGBClassifier(base_score=None, booster=None, callbacks=None,\n",
       "              colsample_bylevel=None, colsample_bynode=None,\n",
       "              colsample_bytree=0.5, early_stopping_rounds=None,\n",
       "              enable_categorical=False, eval_metric='mlogloss',\n",
       "              feature_types=None, gamma=None, gpu_id=None, grow_policy=None,\n",
       "              importance_type=None, interaction_constraints=None,\n",
       "              learning_rate=0.1, max_bin=None, max_cat_threshold=None,\n",
       "              max_cat_to_onehot=None, max_delta_step=None, max_depth=10,\n",
       "              max_leaves=None, min_child_weight=None, missing=nan,\n",
       "              monotone_constraints=None, n_estimators=100, n_jobs=None,\n",
       "              num_parallel_tree=None, objective='multi:softprob',\n",
       "              predictor=None, ...)"
      ]
     },
     "execution_count": 11,
     "metadata": {},
     "output_type": "execute_result"
    }
   ],
   "source": [
    "best_xgb.fit(X_train_tfidf, y_train_temp_encoded)"
   ]
  },
  {
   "cell_type": "code",
   "execution_count": 12,
   "metadata": {},
   "outputs": [],
   "source": [
    "y_val_pred = best_xgb.predict(X_val_tfidf)"
   ]
  },
  {
   "cell_type": "code",
   "execution_count": 14,
   "metadata": {},
   "outputs": [
    {
     "name": "stdout",
     "output_type": "stream",
     "text": [
      "Validation Accuracy: 0.6345609065155807\n",
      "Classification Report: \n",
      "              precision    recall  f1-score   support\n",
      "\n",
      "           0       0.62      0.57      0.59        46\n",
      "           1       0.56      0.31      0.40        29\n",
      "           2       0.61      0.76      0.67       123\n",
      "           3       0.70      0.74      0.72        93\n",
      "           4       0.63      0.44      0.51        62\n",
      "\n",
      "    accuracy                           0.63       353\n",
      "   macro avg       0.62      0.56      0.58       353\n",
      "weighted avg       0.63      0.63      0.62       353\n",
      "\n"
     ]
    }
   ],
   "source": [
    "from sklearn.metrics import accuracy_score, classification_report\n",
    "\n",
    "accuracy_val = accuracy_score(y_val_encoded, y_val_pred)\n",
    "classification_rep = classification_report(y_val_encoded, y_val_pred)\n",
    "\n",
    "print(f\"Validation Accuracy: {accuracy_val}\")\n",
    "print(f\"Classification Report: \\n{classification_rep}\")"
   ]
  },
  {
   "cell_type": "code",
   "execution_count": 15,
   "metadata": {},
   "outputs": [
    {
     "name": "stdout",
     "output_type": "stream",
     "text": [
      "Test Accuracy: 0.5892351274787535\n",
      "Test Classification Report: \n",
      "              precision    recall  f1-score   support\n",
      "\n",
      "           0       0.59      0.50      0.54        46\n",
      "           1       0.31      0.18      0.23        28\n",
      "           2       0.55      0.66      0.60       122\n",
      "           3       0.64      0.67      0.66        94\n",
      "           4       0.69      0.59      0.63        63\n",
      "\n",
      "    accuracy                           0.59       353\n",
      "   macro avg       0.56      0.52      0.53       353\n",
      "weighted avg       0.58      0.59      0.58       353\n",
      "\n"
     ]
    }
   ],
   "source": [
    "y_test_pred = best_xgb.predict(X_test_tfidf)\n",
    "accuracy_test = accuracy_score(y_test_encoded, y_test_pred)\n",
    "classification_rep_test = classification_report(y_test_encoded, y_test_pred)\n",
    "\n",
    "print(f\"Test Accuracy: {accuracy_test}\")\n",
    "print(f\"Test Classification Report: \\n{classification_rep_test}\")\n"
   ]
  },
  {
   "cell_type": "code",
   "execution_count": null,
   "metadata": {},
   "outputs": [],
   "source": []
  }
 ],
 "metadata": {
  "kernelspec": {
   "display_name": "base",
   "language": "python",
   "name": "python3"
  },
  "language_info": {
   "codemirror_mode": {
    "name": "ipython",
    "version": 3
   },
   "file_extension": ".py",
   "mimetype": "text/x-python",
   "name": "python",
   "nbconvert_exporter": "python",
   "pygments_lexer": "ipython3",
   "version": "3.11.4"
  },
  "orig_nbformat": 4
 },
 "nbformat": 4,
 "nbformat_minor": 2
}
