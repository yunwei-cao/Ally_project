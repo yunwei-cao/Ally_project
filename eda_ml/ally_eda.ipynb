{
 "cells": [
  {
   "cell_type": "code",
   "execution_count": 1,
   "metadata": {},
   "outputs": [
    {
     "data": {
      "text/html": [
       "<div>\n",
       "<style scoped>\n",
       "    .dataframe tbody tr th:only-of-type {\n",
       "        vertical-align: middle;\n",
       "    }\n",
       "\n",
       "    .dataframe tbody tr th {\n",
       "        vertical-align: top;\n",
       "    }\n",
       "\n",
       "    .dataframe thead th {\n",
       "        text-align: right;\n",
       "    }\n",
       "</style>\n",
       "<table border=\"1\" class=\"dataframe\">\n",
       "  <thead>\n",
       "    <tr style=\"text-align: right;\">\n",
       "      <th></th>\n",
       "      <th>_index</th>\n",
       "      <th>_type</th>\n",
       "      <th>_id</th>\n",
       "      <th>_score</th>\n",
       "      <th>_source</th>\n",
       "      <th>sort</th>\n",
       "    </tr>\n",
       "  </thead>\n",
       "  <tbody>\n",
       "    <tr>\n",
       "      <th>0</th>\n",
       "      <td>complaint-public-v2</td>\n",
       "      <td>_doc</td>\n",
       "      <td>5471601</td>\n",
       "      <td>NaN</td>\n",
       "      <td>{'product': 'Checking or savings account', 'co...</td>\n",
       "      <td>[16]</td>\n",
       "    </tr>\n",
       "    <tr>\n",
       "      <th>1</th>\n",
       "      <td>complaint-public-v2</td>\n",
       "      <td>_doc</td>\n",
       "      <td>5020019</td>\n",
       "      <td>NaN</td>\n",
       "      <td>{'product': 'Checking or savings account', 'co...</td>\n",
       "      <td>[108]</td>\n",
       "    </tr>\n",
       "    <tr>\n",
       "      <th>2</th>\n",
       "      <td>complaint-public-v2</td>\n",
       "      <td>_doc</td>\n",
       "      <td>7203230</td>\n",
       "      <td>NaN</td>\n",
       "      <td>{'product': 'Vehicle loan or lease', 'complain...</td>\n",
       "      <td>[136]</td>\n",
       "    </tr>\n",
       "    <tr>\n",
       "      <th>3</th>\n",
       "      <td>complaint-public-v2</td>\n",
       "      <td>_doc</td>\n",
       "      <td>3743284</td>\n",
       "      <td>NaN</td>\n",
       "      <td>{'product': 'Checking or savings account', 'co...</td>\n",
       "      <td>[156]</td>\n",
       "    </tr>\n",
       "    <tr>\n",
       "      <th>4</th>\n",
       "      <td>complaint-public-v2</td>\n",
       "      <td>_doc</td>\n",
       "      <td>2927362</td>\n",
       "      <td>NaN</td>\n",
       "      <td>{'product': 'Credit reporting, credit repair s...</td>\n",
       "      <td>[188]</td>\n",
       "    </tr>\n",
       "  </tbody>\n",
       "</table>\n",
       "</div>"
      ],
      "text/plain": [
       "                _index _type      _id  _score  \\\n",
       "0  complaint-public-v2  _doc  5471601     NaN   \n",
       "1  complaint-public-v2  _doc  5020019     NaN   \n",
       "2  complaint-public-v2  _doc  7203230     NaN   \n",
       "3  complaint-public-v2  _doc  3743284     NaN   \n",
       "4  complaint-public-v2  _doc  2927362     NaN   \n",
       "\n",
       "                                             _source   sort  \n",
       "0  {'product': 'Checking or savings account', 'co...   [16]  \n",
       "1  {'product': 'Checking or savings account', 'co...  [108]  \n",
       "2  {'product': 'Vehicle loan or lease', 'complain...  [136]  \n",
       "3  {'product': 'Checking or savings account', 'co...  [156]  \n",
       "4  {'product': 'Credit reporting, credit repair s...  [188]  "
      ]
     },
     "execution_count": 1,
     "metadata": {},
     "output_type": "execute_result"
    }
   ],
   "source": [
    "import pandas as pd\n",
    "\n",
    "# Load the data from the JSON file\n",
    "complaints_data = pd.read_json(\"complaints-2023-08-25_18_02.json\")\n",
    "\n",
    "# Display the first few rows of the data\n",
    "complaints_data.head()"
   ]
  },
  {
   "cell_type": "code",
   "execution_count": 3,
   "metadata": {},
   "outputs": [
    {
     "data": {
      "text/plain": [
       "{'product': 'Checking or savings account',\n",
       " 'complaint_what_happened': 'I opened two accounts with Ally Bank on XX/XX/XXXX of 2021, depositing {$5000.00} into an interest checking account and {$5000.00} into a savings account. I received a debit card in the mail. \\n\\nAfter a few weeks I tried my first transaction, which I think was a small debit card purchase. My account was immediately locked for suspected fraud... I received notification in the mail. \\n\\nI phone Ally Bank on XX/XX/XXXX and aske for the fraud department, where I encountered \" XXXX, \\'\\' a XXXX XXXX XXXX XXXX XXXX  employee who would tell me nothing and only said he would send a document upload link via email, then hung up on me. \\n\\nI uploaded all the requested documents, then waited several weeks. Nothing happened. \\n\\nI called back and spoke with XXXX in fraud prevention. She was apologetic, but said none of my uploaded documents were in the file. She didn\\'t know why. She sent me another upload load and promised to track the case to ensure quick resolution. \\n\\nI never heard from XXXX. \\n\\nSeveral weeks later I called again and spoke with XXXX in fraud prevention. She said none of the documents from either of the two previous uploads were in the file and offered to send me yet a third upload link, but I insisted she stay on the line to verify receipt. We did three sets of uploads, she confirmed she had all the documents from all the uploads, she said they were more than sufficient to prove my identity ( all of these included a photo of me holding my passport, etc. ), and that this would be resolve within 24 to 48 hours. \\n\\nI never heard from XXXX. \\n\\nWeeks later, I called and spoke with a customer service agent who could not transfer me to fraud prevention but said she would try to get someone there patched into the line. She was on hold ( as was I ) for about 40 minutes, then she came back on the line. She said the person she spoke with in fraud prevention would not speak with me, told her not to reveal his or her name, and said someone would reach out to me within 24 to 48 hours, then hung up on the customer service agent in his own organization. She was embarrassed. \\n\\nNo one ever contacted me. So I filed a complaint with the XXXX, who forwarded my complaint to your agency on XX/XX/XXXX. I haven\\'t heard from you, so I\\'m filing a complaint directly here. \\n\\nYour upload system wiped out my entire complaint a few minutes ago, so I\\'ve retyped all of this again. Please contact me, and I will provide you with a XXXX  link to all the relevant emails.',\n",
       " 'date_sent_to_company': '2021-12-17T12:00:00-05:00',\n",
       " 'issue': 'Closing an account',\n",
       " 'sub_product': 'Checking account',\n",
       " 'zip_code': 'XXXXX',\n",
       " 'tags': 'Older American',\n",
       " 'complaint_id': '5020019',\n",
       " 'timely': 'Yes',\n",
       " 'consumer_consent_provided': 'Consent provided',\n",
       " 'company_response': 'Closed with monetary relief',\n",
       " 'submitted_via': 'Web',\n",
       " 'company': 'ALLY FINANCIAL INC.',\n",
       " 'date_received': '2021-12-17T12:00:00-05:00',\n",
       " 'state': 'CA',\n",
       " 'consumer_disputed': 'N/A',\n",
       " 'company_public_response': 'Company has responded to the consumer and the CFPB and chooses not to provide a public response',\n",
       " 'sub_issue': \"Can't close your account\"}"
      ]
     },
     "execution_count": 3,
     "metadata": {},
     "output_type": "execute_result"
    }
   ],
   "source": [
    "# Extract a sample record from the _source column\n",
    "sample_source_record = complaints_data[\"_source\"].iloc[1]\n",
    "\n",
    "sample_source_record"
   ]
  },
  {
   "cell_type": "markdown",
   "metadata": {},
   "source": [
    "Distribution of Products"
   ]
  },
  {
   "cell_type": "code",
   "execution_count": 4,
   "metadata": {},
   "outputs": [
    {
     "data": {
      "text/plain": [
       "Credit reporting, credit repair services, or other personal consumer reports    4214\n",
       "Vehicle loan or lease                                                           3542\n",
       "Checking or savings account                                                     2283\n",
       "Consumer Loan                                                                   2094\n",
       "Debt collection                                                                 1187\n",
       "Bank account or service                                                          777\n",
       "Mortgage                                                                         295\n",
       "Credit card or prepaid card                                                      216\n",
       "Money transfer, virtual currency, or money service                               189\n",
       "Payday loan, title loan, or personal loan                                        154\n",
       "Credit reporting                                                                  37\n",
       "Credit card                                                                       18\n",
       "Money transfers                                                                    7\n",
       "Student loan                                                                       5\n",
       "Other financial service                                                            3\n",
       "Name: Counts, dtype: int64"
      ]
     },
     "execution_count": 4,
     "metadata": {},
     "output_type": "execute_result"
    }
   ],
   "source": [
    "# Convert the data into a pandas DataFrame\n",
    "df = pd.DataFrame(complaints_data)\n",
    "\n",
    "# Extract the 'product' column from the '_source' dictionary column\n",
    "df['product'] = df['_source'].apply(lambda x: x['product'])\n",
    "\n",
    "# Count the occurrences of each product\n",
    "product_counts = df['product'].value_counts(dropna=False)\n",
    "\n",
    "product_counts.name = 'Counts'\n",
    "\n",
    "product_counts"
   ]
  },
  {
   "cell_type": "code",
   "execution_count": 5,
   "metadata": {},
   "outputs": [
    {
     "data": {
      "text/plain": [
       "Credit reporting, credit repair services, or other personal consumer reports    28.05%\n",
       "Vehicle loan or lease                                                           23.58%\n",
       "Checking or savings account                                                     15.20%\n",
       "Consumer Loan                                                                   13.94%\n",
       "Debt collection                                                                  7.90%\n",
       "Bank account or service                                                          5.17%\n",
       "Mortgage                                                                         1.96%\n",
       "Credit card or prepaid card                                                      1.44%\n",
       "Money transfer, virtual currency, or money service                               1.26%\n",
       "Payday loan, title loan, or personal loan                                        1.03%\n",
       "Credit reporting                                                                 0.25%\n",
       "Credit card                                                                      0.12%\n",
       "Money transfers                                                                  0.05%\n",
       "Student loan                                                                     0.03%\n",
       "Other financial service                                                          0.02%\n",
       "Name: Percents, dtype: object"
      ]
     },
     "execution_count": 5,
     "metadata": {},
     "output_type": "execute_result"
    }
   ],
   "source": [
    "# Count the frequrncy rate of each product\n",
    "product_percents = df['product'].value_counts(normalize=True).map(lambda x: f'{x*100:.2f}%')\n",
    "product_percents.name = 'Percents'\n",
    "product_percents"
   ]
  },
  {
   "cell_type": "code",
   "execution_count": 6,
   "metadata": {},
   "outputs": [
    {
     "data": {
      "text/html": [
       "<div>\n",
       "<style scoped>\n",
       "    .dataframe tbody tr th:only-of-type {\n",
       "        vertical-align: middle;\n",
       "    }\n",
       "\n",
       "    .dataframe tbody tr th {\n",
       "        vertical-align: top;\n",
       "    }\n",
       "\n",
       "    .dataframe thead th {\n",
       "        text-align: right;\n",
       "    }\n",
       "</style>\n",
       "<table border=\"1\" class=\"dataframe\">\n",
       "  <thead>\n",
       "    <tr style=\"text-align: right;\">\n",
       "      <th></th>\n",
       "      <th>Counts</th>\n",
       "      <th>Percents</th>\n",
       "    </tr>\n",
       "  </thead>\n",
       "  <tbody>\n",
       "    <tr>\n",
       "      <th>Credit reporting, credit repair services, or other personal consumer reports</th>\n",
       "      <td>4214</td>\n",
       "      <td>28.05%</td>\n",
       "    </tr>\n",
       "    <tr>\n",
       "      <th>Vehicle loan or lease</th>\n",
       "      <td>3542</td>\n",
       "      <td>23.58%</td>\n",
       "    </tr>\n",
       "    <tr>\n",
       "      <th>Checking or savings account</th>\n",
       "      <td>2283</td>\n",
       "      <td>15.20%</td>\n",
       "    </tr>\n",
       "    <tr>\n",
       "      <th>Consumer Loan</th>\n",
       "      <td>2094</td>\n",
       "      <td>13.94%</td>\n",
       "    </tr>\n",
       "    <tr>\n",
       "      <th>Debt collection</th>\n",
       "      <td>1187</td>\n",
       "      <td>7.90%</td>\n",
       "    </tr>\n",
       "    <tr>\n",
       "      <th>Bank account or service</th>\n",
       "      <td>777</td>\n",
       "      <td>5.17%</td>\n",
       "    </tr>\n",
       "    <tr>\n",
       "      <th>Mortgage</th>\n",
       "      <td>295</td>\n",
       "      <td>1.96%</td>\n",
       "    </tr>\n",
       "    <tr>\n",
       "      <th>Credit card or prepaid card</th>\n",
       "      <td>216</td>\n",
       "      <td>1.44%</td>\n",
       "    </tr>\n",
       "    <tr>\n",
       "      <th>Money transfer, virtual currency, or money service</th>\n",
       "      <td>189</td>\n",
       "      <td>1.26%</td>\n",
       "    </tr>\n",
       "    <tr>\n",
       "      <th>Payday loan, title loan, or personal loan</th>\n",
       "      <td>154</td>\n",
       "      <td>1.03%</td>\n",
       "    </tr>\n",
       "    <tr>\n",
       "      <th>Credit reporting</th>\n",
       "      <td>37</td>\n",
       "      <td>0.25%</td>\n",
       "    </tr>\n",
       "    <tr>\n",
       "      <th>Credit card</th>\n",
       "      <td>18</td>\n",
       "      <td>0.12%</td>\n",
       "    </tr>\n",
       "    <tr>\n",
       "      <th>Money transfers</th>\n",
       "      <td>7</td>\n",
       "      <td>0.05%</td>\n",
       "    </tr>\n",
       "    <tr>\n",
       "      <th>Student loan</th>\n",
       "      <td>5</td>\n",
       "      <td>0.03%</td>\n",
       "    </tr>\n",
       "    <tr>\n",
       "      <th>Other financial service</th>\n",
       "      <td>3</td>\n",
       "      <td>0.02%</td>\n",
       "    </tr>\n",
       "  </tbody>\n",
       "</table>\n",
       "</div>"
      ],
      "text/plain": [
       "                                                    Counts Percents\n",
       "Credit reporting, credit repair services, or ot...    4214   28.05%\n",
       "Vehicle loan or lease                                 3542   23.58%\n",
       "Checking or savings account                           2283   15.20%\n",
       "Consumer Loan                                         2094   13.94%\n",
       "Debt collection                                       1187    7.90%\n",
       "Bank account or service                                777    5.17%\n",
       "Mortgage                                               295    1.96%\n",
       "Credit card or prepaid card                            216    1.44%\n",
       "Money transfer, virtual currency, or money service     189    1.26%\n",
       "Payday loan, title loan, or personal loan              154    1.03%\n",
       "Credit reporting                                        37    0.25%\n",
       "Credit card                                             18    0.12%\n",
       "Money transfers                                          7    0.05%\n",
       "Student loan                                             5    0.03%\n",
       "Other financial service                                  3    0.02%"
      ]
     },
     "execution_count": 6,
     "metadata": {},
     "output_type": "execute_result"
    }
   ],
   "source": [
    "# Combine the Series into a DataFrame\n",
    "df_products = pd.concat([product_counts, product_percents], axis=1)\n",
    "df_products"
   ]
  },
  {
   "cell_type": "code",
   "execution_count": 7,
   "metadata": {},
   "outputs": [
    {
     "data": {
      "application/vnd.plotly.v1+json": {
       "config": {
        "plotlyServerURL": "https://plot.ly"
       },
       "data": [
        {
         "name": "Counts",
         "type": "bar",
         "x": [
          "Credit reporting, credit repair services, or other personal consumer reports",
          "Vehicle loan or lease",
          "Checking or savings account",
          "Consumer Loan",
          "Debt collection",
          "Bank account or service",
          "Mortgage",
          "Credit card or prepaid card",
          "Money transfer, virtual currency, or money service",
          "Payday loan, title loan, or personal loan",
          "Credit reporting",
          "Credit card",
          "Money transfers",
          "Student loan",
          "Other financial service"
         ],
         "y": [
          4214,
          3542,
          2283,
          2094,
          1187,
          777,
          295,
          216,
          189,
          154,
          37,
          18,
          7,
          5,
          3
         ]
        },
        {
         "mode": "lines+markers",
         "name": "Percents",
         "type": "scatter",
         "x": [
          "Credit reporting, credit repair services, or other personal consumer reports",
          "Vehicle loan or lease",
          "Checking or savings account",
          "Consumer Loan",
          "Debt collection",
          "Bank account or service",
          "Mortgage",
          "Credit card or prepaid card",
          "Money transfer, virtual currency, or money service",
          "Payday loan, title loan, or personal loan",
          "Credit reporting",
          "Credit card",
          "Money transfers",
          "Student loan",
          "Other financial service"
         ],
         "y": [
          0.2805,
          0.23579999999999998,
          0.152,
          0.1394,
          0.079,
          0.051699999999999996,
          0.0196,
          0.0144,
          0.0126,
          0.0103,
          0.0025,
          0.0012,
          0.0005,
          0.0003,
          0.0002
         ],
         "yaxis": "y2"
        }
       ],
       "layout": {
        "autosize": true,
        "height": 400,
        "hovermode": "x unified",
        "margin": {
         "autoexpand": true
        },
        "template": {
         "data": {
          "bar": [
           {
            "error_x": {
             "color": "#2a3f5f"
            },
            "error_y": {
             "color": "#2a3f5f"
            },
            "marker": {
             "line": {
              "color": "#E5ECF6",
              "width": 0.5
             },
             "pattern": {
              "fillmode": "overlay",
              "size": 10,
              "solidity": 0.2
             }
            },
            "type": "bar"
           }
          ],
          "barpolar": [
           {
            "marker": {
             "line": {
              "color": "#E5ECF6",
              "width": 0.5
             },
             "pattern": {
              "fillmode": "overlay",
              "size": 10,
              "solidity": 0.2
             }
            },
            "type": "barpolar"
           }
          ],
          "carpet": [
           {
            "aaxis": {
             "endlinecolor": "#2a3f5f",
             "gridcolor": "white",
             "linecolor": "white",
             "minorgridcolor": "white",
             "startlinecolor": "#2a3f5f"
            },
            "baxis": {
             "endlinecolor": "#2a3f5f",
             "gridcolor": "white",
             "linecolor": "white",
             "minorgridcolor": "white",
             "startlinecolor": "#2a3f5f"
            },
            "type": "carpet"
           }
          ],
          "choropleth": [
           {
            "colorbar": {
             "outlinewidth": 0,
             "ticks": ""
            },
            "type": "choropleth"
           }
          ],
          "contour": [
           {
            "colorbar": {
             "outlinewidth": 0,
             "ticks": ""
            },
            "colorscale": [
             [
              0,
              "#0d0887"
             ],
             [
              0.1111111111111111,
              "#46039f"
             ],
             [
              0.2222222222222222,
              "#7201a8"
             ],
             [
              0.3333333333333333,
              "#9c179e"
             ],
             [
              0.4444444444444444,
              "#bd3786"
             ],
             [
              0.5555555555555556,
              "#d8576b"
             ],
             [
              0.6666666666666666,
              "#ed7953"
             ],
             [
              0.7777777777777778,
              "#fb9f3a"
             ],
             [
              0.8888888888888888,
              "#fdca26"
             ],
             [
              1,
              "#f0f921"
             ]
            ],
            "type": "contour"
           }
          ],
          "contourcarpet": [
           {
            "colorbar": {
             "outlinewidth": 0,
             "ticks": ""
            },
            "type": "contourcarpet"
           }
          ],
          "heatmap": [
           {
            "colorbar": {
             "outlinewidth": 0,
             "ticks": ""
            },
            "colorscale": [
             [
              0,
              "#0d0887"
             ],
             [
              0.1111111111111111,
              "#46039f"
             ],
             [
              0.2222222222222222,
              "#7201a8"
             ],
             [
              0.3333333333333333,
              "#9c179e"
             ],
             [
              0.4444444444444444,
              "#bd3786"
             ],
             [
              0.5555555555555556,
              "#d8576b"
             ],
             [
              0.6666666666666666,
              "#ed7953"
             ],
             [
              0.7777777777777778,
              "#fb9f3a"
             ],
             [
              0.8888888888888888,
              "#fdca26"
             ],
             [
              1,
              "#f0f921"
             ]
            ],
            "type": "heatmap"
           }
          ],
          "heatmapgl": [
           {
            "colorbar": {
             "outlinewidth": 0,
             "ticks": ""
            },
            "colorscale": [
             [
              0,
              "#0d0887"
             ],
             [
              0.1111111111111111,
              "#46039f"
             ],
             [
              0.2222222222222222,
              "#7201a8"
             ],
             [
              0.3333333333333333,
              "#9c179e"
             ],
             [
              0.4444444444444444,
              "#bd3786"
             ],
             [
              0.5555555555555556,
              "#d8576b"
             ],
             [
              0.6666666666666666,
              "#ed7953"
             ],
             [
              0.7777777777777778,
              "#fb9f3a"
             ],
             [
              0.8888888888888888,
              "#fdca26"
             ],
             [
              1,
              "#f0f921"
             ]
            ],
            "type": "heatmapgl"
           }
          ],
          "histogram": [
           {
            "marker": {
             "pattern": {
              "fillmode": "overlay",
              "size": 10,
              "solidity": 0.2
             }
            },
            "type": "histogram"
           }
          ],
          "histogram2d": [
           {
            "colorbar": {
             "outlinewidth": 0,
             "ticks": ""
            },
            "colorscale": [
             [
              0,
              "#0d0887"
             ],
             [
              0.1111111111111111,
              "#46039f"
             ],
             [
              0.2222222222222222,
              "#7201a8"
             ],
             [
              0.3333333333333333,
              "#9c179e"
             ],
             [
              0.4444444444444444,
              "#bd3786"
             ],
             [
              0.5555555555555556,
              "#d8576b"
             ],
             [
              0.6666666666666666,
              "#ed7953"
             ],
             [
              0.7777777777777778,
              "#fb9f3a"
             ],
             [
              0.8888888888888888,
              "#fdca26"
             ],
             [
              1,
              "#f0f921"
             ]
            ],
            "type": "histogram2d"
           }
          ],
          "histogram2dcontour": [
           {
            "colorbar": {
             "outlinewidth": 0,
             "ticks": ""
            },
            "colorscale": [
             [
              0,
              "#0d0887"
             ],
             [
              0.1111111111111111,
              "#46039f"
             ],
             [
              0.2222222222222222,
              "#7201a8"
             ],
             [
              0.3333333333333333,
              "#9c179e"
             ],
             [
              0.4444444444444444,
              "#bd3786"
             ],
             [
              0.5555555555555556,
              "#d8576b"
             ],
             [
              0.6666666666666666,
              "#ed7953"
             ],
             [
              0.7777777777777778,
              "#fb9f3a"
             ],
             [
              0.8888888888888888,
              "#fdca26"
             ],
             [
              1,
              "#f0f921"
             ]
            ],
            "type": "histogram2dcontour"
           }
          ],
          "mesh3d": [
           {
            "colorbar": {
             "outlinewidth": 0,
             "ticks": ""
            },
            "type": "mesh3d"
           }
          ],
          "parcoords": [
           {
            "line": {
             "colorbar": {
              "outlinewidth": 0,
              "ticks": ""
             }
            },
            "type": "parcoords"
           }
          ],
          "pie": [
           {
            "automargin": true,
            "type": "pie"
           }
          ],
          "scatter": [
           {
            "fillpattern": {
             "fillmode": "overlay",
             "size": 10,
             "solidity": 0.2
            },
            "type": "scatter"
           }
          ],
          "scatter3d": [
           {
            "line": {
             "colorbar": {
              "outlinewidth": 0,
              "ticks": ""
             }
            },
            "marker": {
             "colorbar": {
              "outlinewidth": 0,
              "ticks": ""
             }
            },
            "type": "scatter3d"
           }
          ],
          "scattercarpet": [
           {
            "marker": {
             "colorbar": {
              "outlinewidth": 0,
              "ticks": ""
             }
            },
            "type": "scattercarpet"
           }
          ],
          "scattergeo": [
           {
            "marker": {
             "colorbar": {
              "outlinewidth": 0,
              "ticks": ""
             }
            },
            "type": "scattergeo"
           }
          ],
          "scattergl": [
           {
            "marker": {
             "colorbar": {
              "outlinewidth": 0,
              "ticks": ""
             }
            },
            "type": "scattergl"
           }
          ],
          "scattermapbox": [
           {
            "marker": {
             "colorbar": {
              "outlinewidth": 0,
              "ticks": ""
             }
            },
            "type": "scattermapbox"
           }
          ],
          "scatterpolar": [
           {
            "marker": {
             "colorbar": {
              "outlinewidth": 0,
              "ticks": ""
             }
            },
            "type": "scatterpolar"
           }
          ],
          "scatterpolargl": [
           {
            "marker": {
             "colorbar": {
              "outlinewidth": 0,
              "ticks": ""
             }
            },
            "type": "scatterpolargl"
           }
          ],
          "scatterternary": [
           {
            "marker": {
             "colorbar": {
              "outlinewidth": 0,
              "ticks": ""
             }
            },
            "type": "scatterternary"
           }
          ],
          "surface": [
           {
            "colorbar": {
             "outlinewidth": 0,
             "ticks": ""
            },
            "colorscale": [
             [
              0,
              "#0d0887"
             ],
             [
              0.1111111111111111,
              "#46039f"
             ],
             [
              0.2222222222222222,
              "#7201a8"
             ],
             [
              0.3333333333333333,
              "#9c179e"
             ],
             [
              0.4444444444444444,
              "#bd3786"
             ],
             [
              0.5555555555555556,
              "#d8576b"
             ],
             [
              0.6666666666666666,
              "#ed7953"
             ],
             [
              0.7777777777777778,
              "#fb9f3a"
             ],
             [
              0.8888888888888888,
              "#fdca26"
             ],
             [
              1,
              "#f0f921"
             ]
            ],
            "type": "surface"
           }
          ],
          "table": [
           {
            "cells": {
             "fill": {
              "color": "#EBF0F8"
             },
             "line": {
              "color": "white"
             }
            },
            "header": {
             "fill": {
              "color": "#C8D4E3"
             },
             "line": {
              "color": "white"
             }
            },
            "type": "table"
           }
          ]
         },
         "layout": {
          "annotationdefaults": {
           "arrowcolor": "#2a3f5f",
           "arrowhead": 0,
           "arrowwidth": 1
          },
          "autotypenumbers": "strict",
          "coloraxis": {
           "colorbar": {
            "outlinewidth": 0,
            "ticks": ""
           }
          },
          "colorscale": {
           "diverging": [
            [
             0,
             "#8e0152"
            ],
            [
             0.1,
             "#c51b7d"
            ],
            [
             0.2,
             "#de77ae"
            ],
            [
             0.3,
             "#f1b6da"
            ],
            [
             0.4,
             "#fde0ef"
            ],
            [
             0.5,
             "#f7f7f7"
            ],
            [
             0.6,
             "#e6f5d0"
            ],
            [
             0.7,
             "#b8e186"
            ],
            [
             0.8,
             "#7fbc41"
            ],
            [
             0.9,
             "#4d9221"
            ],
            [
             1,
             "#276419"
            ]
           ],
           "sequential": [
            [
             0,
             "#0d0887"
            ],
            [
             0.1111111111111111,
             "#46039f"
            ],
            [
             0.2222222222222222,
             "#7201a8"
            ],
            [
             0.3333333333333333,
             "#9c179e"
            ],
            [
             0.4444444444444444,
             "#bd3786"
            ],
            [
             0.5555555555555556,
             "#d8576b"
            ],
            [
             0.6666666666666666,
             "#ed7953"
            ],
            [
             0.7777777777777778,
             "#fb9f3a"
            ],
            [
             0.8888888888888888,
             "#fdca26"
            ],
            [
             1,
             "#f0f921"
            ]
           ],
           "sequentialminus": [
            [
             0,
             "#0d0887"
            ],
            [
             0.1111111111111111,
             "#46039f"
            ],
            [
             0.2222222222222222,
             "#7201a8"
            ],
            [
             0.3333333333333333,
             "#9c179e"
            ],
            [
             0.4444444444444444,
             "#bd3786"
            ],
            [
             0.5555555555555556,
             "#d8576b"
            ],
            [
             0.6666666666666666,
             "#ed7953"
            ],
            [
             0.7777777777777778,
             "#fb9f3a"
            ],
            [
             0.8888888888888888,
             "#fdca26"
            ],
            [
             1,
             "#f0f921"
            ]
           ]
          },
          "colorway": [
           "#636efa",
           "#EF553B",
           "#00cc96",
           "#ab63fa",
           "#FFA15A",
           "#19d3f3",
           "#FF6692",
           "#B6E880",
           "#FF97FF",
           "#FECB52"
          ],
          "font": {
           "color": "#2a3f5f"
          },
          "geo": {
           "bgcolor": "white",
           "lakecolor": "white",
           "landcolor": "#E5ECF6",
           "showlakes": true,
           "showland": true,
           "subunitcolor": "white"
          },
          "hoverlabel": {
           "align": "left"
          },
          "hovermode": "closest",
          "mapbox": {
           "style": "light"
          },
          "paper_bgcolor": "white",
          "plot_bgcolor": "#E5ECF6",
          "polar": {
           "angularaxis": {
            "gridcolor": "white",
            "linecolor": "white",
            "ticks": ""
           },
           "bgcolor": "#E5ECF6",
           "radialaxis": {
            "gridcolor": "white",
            "linecolor": "white",
            "ticks": ""
           }
          },
          "scene": {
           "xaxis": {
            "backgroundcolor": "#E5ECF6",
            "gridcolor": "white",
            "gridwidth": 2,
            "linecolor": "white",
            "showbackground": true,
            "ticks": "",
            "zerolinecolor": "white"
           },
           "yaxis": {
            "backgroundcolor": "#E5ECF6",
            "gridcolor": "white",
            "gridwidth": 2,
            "linecolor": "white",
            "showbackground": true,
            "ticks": "",
            "zerolinecolor": "white"
           },
           "zaxis": {
            "backgroundcolor": "#E5ECF6",
            "gridcolor": "white",
            "gridwidth": 2,
            "linecolor": "white",
            "showbackground": true,
            "ticks": "",
            "zerolinecolor": "white"
           }
          },
          "shapedefaults": {
           "line": {
            "color": "#2a3f5f"
           }
          },
          "ternary": {
           "aaxis": {
            "gridcolor": "white",
            "linecolor": "white",
            "ticks": ""
           },
           "baxis": {
            "gridcolor": "white",
            "linecolor": "white",
            "ticks": ""
           },
           "bgcolor": "#E5ECF6",
           "caxis": {
            "gridcolor": "white",
            "linecolor": "white",
            "ticks": ""
           }
          },
          "title": {
           "x": 0.05
          },
          "xaxis": {
           "automargin": true,
           "gridcolor": "white",
           "linecolor": "white",
           "ticks": "",
           "title": {
            "standoff": 15
           },
           "zerolinecolor": "white",
           "zerolinewidth": 2
          },
          "yaxis": {
           "automargin": true,
           "gridcolor": "white",
           "linecolor": "white",
           "ticks": "",
           "title": {
            "standoff": 15
           },
           "zerolinecolor": "white",
           "zerolinewidth": 2
          }
         }
        },
        "title": {
         "text": "Distribution of Products"
        },
        "width": 600,
        "xaxis": {
         "showticklabels": false
        },
        "yaxis": {
         "title": {
          "text": "Counts"
         }
        },
        "yaxis2": {
         "overlaying": "y",
         "side": "right",
         "title": {
          "text": "Percents"
         }
        }
       }
      }
     },
     "metadata": {},
     "output_type": "display_data"
    }
   ],
   "source": [
    "import plotly.graph_objects as go\n",
    "\n",
    "# Create a figure\n",
    "fig = go.Figure()\n",
    "\n",
    "# Add bar trace for Counts\n",
    "fig.add_trace(go.Bar(x=df_products.index, y=df_products['Counts'], name='Counts'))\n",
    "\n",
    "# Add line trace for Percents, set to secondary y-axis\n",
    "# Convert percentages to float for plotting\n",
    "df_products['Percents'] = df_products['Percents'].str.rstrip('%').astype('float') / 100.0\n",
    "fig.add_trace(go.Scatter(x=df_products.index, y=df_products['Percents'], name='Percents', yaxis='y2', mode='lines+markers'))\n",
    "\n",
    "# Set up the layout, including dual y-axes\n",
    "fig.update_layout(\n",
    "    yaxis=dict(title='Counts'),\n",
    "    yaxis2=dict(title='Percents', overlaying='y', side='right'),\n",
    "    title=\"Distribution of Products\",\n",
    "    hovermode='x unified',  # Show hover for all traces at the same x value\n",
    "    autosize=True,\n",
    "    margin=dict(autoexpand=True),  # Adjust margins to make the graph size adjustable\n",
    "    width=600,  # Initial width\n",
    "    height=400   # Initial height\n",
    ")\n",
    "\n",
    "# Hide x-axis tick labels\n",
    "fig.update_xaxes(showticklabels=False)\n",
    "\n",
    "fig.show()"
   ]
  },
  {
   "cell_type": "markdown",
   "metadata": {},
   "source": [
    "Distribution of Issues by Products"
   ]
  },
  {
   "cell_type": "code",
   "execution_count": 8,
   "metadata": {},
   "outputs": [],
   "source": [
    "# Extract the 'product' and 'issue' columns from the '_source' dictionary column\n",
    "df['product'] = df['_source'].apply(lambda x: x.get('product', None))\n",
    "df['issue'] = df['_source'].apply(lambda x: x.get('issue', None))"
   ]
  },
  {
   "cell_type": "code",
   "execution_count": 9,
   "metadata": {},
   "outputs": [
    {
     "data": {
      "text/html": [
       "<div>\n",
       "<style scoped>\n",
       "    .dataframe tbody tr th:only-of-type {\n",
       "        vertical-align: middle;\n",
       "    }\n",
       "\n",
       "    .dataframe tbody tr th {\n",
       "        vertical-align: top;\n",
       "    }\n",
       "\n",
       "    .dataframe thead th {\n",
       "        text-align: right;\n",
       "    }\n",
       "</style>\n",
       "<table border=\"1\" class=\"dataframe\">\n",
       "  <thead>\n",
       "    <tr style=\"text-align: right;\">\n",
       "      <th></th>\n",
       "      <th>product</th>\n",
       "      <th>issue</th>\n",
       "      <th>count</th>\n",
       "    </tr>\n",
       "  </thead>\n",
       "  <tbody>\n",
       "    <tr>\n",
       "      <th>0</th>\n",
       "      <td>Bank account or service</td>\n",
       "      <td>Account opening, closing, or management</td>\n",
       "      <td>427</td>\n",
       "    </tr>\n",
       "    <tr>\n",
       "      <th>1</th>\n",
       "      <td>Bank account or service</td>\n",
       "      <td>Deposits and withdrawals</td>\n",
       "      <td>189</td>\n",
       "    </tr>\n",
       "    <tr>\n",
       "      <th>2</th>\n",
       "      <td>Bank account or service</td>\n",
       "      <td>Making/receiving payments, sending money</td>\n",
       "      <td>82</td>\n",
       "    </tr>\n",
       "    <tr>\n",
       "      <th>3</th>\n",
       "      <td>Bank account or service</td>\n",
       "      <td>Problems caused by my funds being low</td>\n",
       "      <td>42</td>\n",
       "    </tr>\n",
       "    <tr>\n",
       "      <th>4</th>\n",
       "      <td>Bank account or service</td>\n",
       "      <td>Using a debit or ATM card</td>\n",
       "      <td>37</td>\n",
       "    </tr>\n",
       "    <tr>\n",
       "      <th>...</th>\n",
       "      <td>...</td>\n",
       "      <td>...</td>\n",
       "      <td>...</td>\n",
       "    </tr>\n",
       "    <tr>\n",
       "      <th>131</th>\n",
       "      <td>Vehicle loan or lease</td>\n",
       "      <td>Problem with a credit reporting company's inve...</td>\n",
       "      <td>133</td>\n",
       "    </tr>\n",
       "    <tr>\n",
       "      <th>132</th>\n",
       "      <td>Vehicle loan or lease</td>\n",
       "      <td>Problem with fraud alerts or security freezes</td>\n",
       "      <td>1</td>\n",
       "    </tr>\n",
       "    <tr>\n",
       "      <th>133</th>\n",
       "      <td>Vehicle loan or lease</td>\n",
       "      <td>Problems at the end of the loan or lease</td>\n",
       "      <td>823</td>\n",
       "    </tr>\n",
       "    <tr>\n",
       "      <th>134</th>\n",
       "      <td>Vehicle loan or lease</td>\n",
       "      <td>Struggling to pay your loan</td>\n",
       "      <td>558</td>\n",
       "    </tr>\n",
       "    <tr>\n",
       "      <th>135</th>\n",
       "      <td>Vehicle loan or lease</td>\n",
       "      <td>Unable to get your credit report or credit score</td>\n",
       "      <td>4</td>\n",
       "    </tr>\n",
       "  </tbody>\n",
       "</table>\n",
       "<p>136 rows × 3 columns</p>\n",
       "</div>"
      ],
      "text/plain": [
       "                     product  \\\n",
       "0    Bank account or service   \n",
       "1    Bank account or service   \n",
       "2    Bank account or service   \n",
       "3    Bank account or service   \n",
       "4    Bank account or service   \n",
       "..                       ...   \n",
       "131    Vehicle loan or lease   \n",
       "132    Vehicle loan or lease   \n",
       "133    Vehicle loan or lease   \n",
       "134    Vehicle loan or lease   \n",
       "135    Vehicle loan or lease   \n",
       "\n",
       "                                                 issue  count  \n",
       "0              Account opening, closing, or management    427  \n",
       "1                             Deposits and withdrawals    189  \n",
       "2             Making/receiving payments, sending money     82  \n",
       "3                Problems caused by my funds being low     42  \n",
       "4                            Using a debit or ATM card     37  \n",
       "..                                                 ...    ...  \n",
       "131  Problem with a credit reporting company's inve...    133  \n",
       "132      Problem with fraud alerts or security freezes      1  \n",
       "133           Problems at the end of the loan or lease    823  \n",
       "134                        Struggling to pay your loan    558  \n",
       "135   Unable to get your credit report or credit score      4  \n",
       "\n",
       "[136 rows x 3 columns]"
      ]
     },
     "execution_count": 9,
     "metadata": {},
     "output_type": "execute_result"
    }
   ],
   "source": [
    "# Group by the 'product' and 'issue' columns and count the occurrences of each combination\n",
    "issue_by_product = df.groupby(['product', 'issue']).size().reset_index(name='count')\n",
    "issue_by_product"
   ]
  },
  {
   "cell_type": "code",
   "execution_count": 10,
   "metadata": {},
   "outputs": [
    {
     "data": {
      "text/plain": [
       "Credit reporting, credit repair services, or other personal consumer reports    4214\n",
       "Vehicle loan or lease                                                           3542\n",
       "Checking or savings account                                                     2283\n",
       "Consumer Loan                                                                   2094\n",
       "Debt collection                                                                 1187\n",
       "Bank account or service                                                          777\n",
       "Mortgage                                                                         295\n",
       "Name: Counts, dtype: int64"
      ]
     },
     "execution_count": 10,
     "metadata": {},
     "output_type": "execute_result"
    }
   ],
   "source": [
    "#Extract the Top 7 Products:\n",
    "top_7_products = product_counts.nlargest(7)\n",
    "top_7_products"
   ]
  },
  {
   "cell_type": "code",
   "execution_count": 11,
   "metadata": {},
   "outputs": [
    {
     "data": {
      "text/html": [
       "<div>\n",
       "<style scoped>\n",
       "    .dataframe tbody tr th:only-of-type {\n",
       "        vertical-align: middle;\n",
       "    }\n",
       "\n",
       "    .dataframe tbody tr th {\n",
       "        vertical-align: top;\n",
       "    }\n",
       "\n",
       "    .dataframe thead th {\n",
       "        text-align: right;\n",
       "    }\n",
       "</style>\n",
       "<table border=\"1\" class=\"dataframe\">\n",
       "  <thead>\n",
       "    <tr style=\"text-align: right;\">\n",
       "      <th></th>\n",
       "      <th>product</th>\n",
       "      <th>issue</th>\n",
       "      <th>count</th>\n",
       "    </tr>\n",
       "  </thead>\n",
       "  <tbody>\n",
       "    <tr>\n",
       "      <th>0</th>\n",
       "      <td>Bank account or service</td>\n",
       "      <td>Account opening, closing, or management</td>\n",
       "      <td>427</td>\n",
       "    </tr>\n",
       "    <tr>\n",
       "      <th>1</th>\n",
       "      <td>Bank account or service</td>\n",
       "      <td>Deposits and withdrawals</td>\n",
       "      <td>189</td>\n",
       "    </tr>\n",
       "    <tr>\n",
       "      <th>2</th>\n",
       "      <td>Bank account or service</td>\n",
       "      <td>Making/receiving payments, sending money</td>\n",
       "      <td>82</td>\n",
       "    </tr>\n",
       "    <tr>\n",
       "      <th>3</th>\n",
       "      <td>Bank account or service</td>\n",
       "      <td>Problems caused by my funds being low</td>\n",
       "      <td>42</td>\n",
       "    </tr>\n",
       "    <tr>\n",
       "      <th>4</th>\n",
       "      <td>Bank account or service</td>\n",
       "      <td>Using a debit or ATM card</td>\n",
       "      <td>37</td>\n",
       "    </tr>\n",
       "    <tr>\n",
       "      <th>...</th>\n",
       "      <td>...</td>\n",
       "      <td>...</td>\n",
       "      <td>...</td>\n",
       "    </tr>\n",
       "    <tr>\n",
       "      <th>131</th>\n",
       "      <td>Vehicle loan or lease</td>\n",
       "      <td>Problem with a credit reporting company's inve...</td>\n",
       "      <td>133</td>\n",
       "    </tr>\n",
       "    <tr>\n",
       "      <th>132</th>\n",
       "      <td>Vehicle loan or lease</td>\n",
       "      <td>Problem with fraud alerts or security freezes</td>\n",
       "      <td>1</td>\n",
       "    </tr>\n",
       "    <tr>\n",
       "      <th>133</th>\n",
       "      <td>Vehicle loan or lease</td>\n",
       "      <td>Problems at the end of the loan or lease</td>\n",
       "      <td>823</td>\n",
       "    </tr>\n",
       "    <tr>\n",
       "      <th>134</th>\n",
       "      <td>Vehicle loan or lease</td>\n",
       "      <td>Struggling to pay your loan</td>\n",
       "      <td>558</td>\n",
       "    </tr>\n",
       "    <tr>\n",
       "      <th>135</th>\n",
       "      <td>Vehicle loan or lease</td>\n",
       "      <td>Unable to get your credit report or credit score</td>\n",
       "      <td>4</td>\n",
       "    </tr>\n",
       "  </tbody>\n",
       "</table>\n",
       "<p>65 rows × 3 columns</p>\n",
       "</div>"
      ],
      "text/plain": [
       "                     product  \\\n",
       "0    Bank account or service   \n",
       "1    Bank account or service   \n",
       "2    Bank account or service   \n",
       "3    Bank account or service   \n",
       "4    Bank account or service   \n",
       "..                       ...   \n",
       "131    Vehicle loan or lease   \n",
       "132    Vehicle loan or lease   \n",
       "133    Vehicle loan or lease   \n",
       "134    Vehicle loan or lease   \n",
       "135    Vehicle loan or lease   \n",
       "\n",
       "                                                 issue  count  \n",
       "0              Account opening, closing, or management    427  \n",
       "1                             Deposits and withdrawals    189  \n",
       "2             Making/receiving payments, sending money     82  \n",
       "3                Problems caused by my funds being low     42  \n",
       "4                            Using a debit or ATM card     37  \n",
       "..                                                 ...    ...  \n",
       "131  Problem with a credit reporting company's inve...    133  \n",
       "132      Problem with fraud alerts or security freezes      1  \n",
       "133           Problems at the end of the loan or lease    823  \n",
       "134                        Struggling to pay your loan    558  \n",
       "135   Unable to get your credit report or credit score      4  \n",
       "\n",
       "[65 rows x 3 columns]"
      ]
     },
     "execution_count": 11,
     "metadata": {},
     "output_type": "execute_result"
    }
   ],
   "source": [
    "#Filter the issue_by_product DataFrame for Only These Products\n",
    "filtered_issues = issue_by_product[issue_by_product['product'].isin(top_7_products.index)]\n",
    "filtered_issues"
   ]
  },
  {
   "cell_type": "code",
   "execution_count": 12,
   "metadata": {},
   "outputs": [
    {
     "data": {
      "text/html": [
       "<div>\n",
       "<style scoped>\n",
       "    .dataframe tbody tr th:only-of-type {\n",
       "        vertical-align: middle;\n",
       "    }\n",
       "\n",
       "    .dataframe tbody tr th {\n",
       "        vertical-align: top;\n",
       "    }\n",
       "\n",
       "    .dataframe thead th {\n",
       "        text-align: right;\n",
       "    }\n",
       "</style>\n",
       "<table border=\"1\" class=\"dataframe\">\n",
       "  <thead>\n",
       "    <tr style=\"text-align: right;\">\n",
       "      <th></th>\n",
       "      <th>product</th>\n",
       "      <th>issue</th>\n",
       "      <th>count</th>\n",
       "      <th>product_total</th>\n",
       "      <th>issue_rate</th>\n",
       "    </tr>\n",
       "  </thead>\n",
       "  <tbody>\n",
       "    <tr>\n",
       "      <th>0</th>\n",
       "      <td>Bank account or service</td>\n",
       "      <td>Account opening, closing, or management</td>\n",
       "      <td>427</td>\n",
       "      <td>777</td>\n",
       "      <td>54.954955</td>\n",
       "    </tr>\n",
       "    <tr>\n",
       "      <th>1</th>\n",
       "      <td>Bank account or service</td>\n",
       "      <td>Deposits and withdrawals</td>\n",
       "      <td>189</td>\n",
       "      <td>777</td>\n",
       "      <td>24.324324</td>\n",
       "    </tr>\n",
       "    <tr>\n",
       "      <th>2</th>\n",
       "      <td>Bank account or service</td>\n",
       "      <td>Making/receiving payments, sending money</td>\n",
       "      <td>82</td>\n",
       "      <td>777</td>\n",
       "      <td>10.553411</td>\n",
       "    </tr>\n",
       "    <tr>\n",
       "      <th>3</th>\n",
       "      <td>Bank account or service</td>\n",
       "      <td>Problems caused by my funds being low</td>\n",
       "      <td>42</td>\n",
       "      <td>777</td>\n",
       "      <td>5.405405</td>\n",
       "    </tr>\n",
       "    <tr>\n",
       "      <th>4</th>\n",
       "      <td>Bank account or service</td>\n",
       "      <td>Using a debit or ATM card</td>\n",
       "      <td>37</td>\n",
       "      <td>777</td>\n",
       "      <td>4.761905</td>\n",
       "    </tr>\n",
       "    <tr>\n",
       "      <th>...</th>\n",
       "      <td>...</td>\n",
       "      <td>...</td>\n",
       "      <td>...</td>\n",
       "      <td>...</td>\n",
       "      <td>...</td>\n",
       "    </tr>\n",
       "    <tr>\n",
       "      <th>131</th>\n",
       "      <td>Vehicle loan or lease</td>\n",
       "      <td>Problem with a credit reporting company's inve...</td>\n",
       "      <td>133</td>\n",
       "      <td>3542</td>\n",
       "      <td>3.754941</td>\n",
       "    </tr>\n",
       "    <tr>\n",
       "      <th>132</th>\n",
       "      <td>Vehicle loan or lease</td>\n",
       "      <td>Problem with fraud alerts or security freezes</td>\n",
       "      <td>1</td>\n",
       "      <td>3542</td>\n",
       "      <td>0.028233</td>\n",
       "    </tr>\n",
       "    <tr>\n",
       "      <th>133</th>\n",
       "      <td>Vehicle loan or lease</td>\n",
       "      <td>Problems at the end of the loan or lease</td>\n",
       "      <td>823</td>\n",
       "      <td>3542</td>\n",
       "      <td>23.235460</td>\n",
       "    </tr>\n",
       "    <tr>\n",
       "      <th>134</th>\n",
       "      <td>Vehicle loan or lease</td>\n",
       "      <td>Struggling to pay your loan</td>\n",
       "      <td>558</td>\n",
       "      <td>3542</td>\n",
       "      <td>15.753811</td>\n",
       "    </tr>\n",
       "    <tr>\n",
       "      <th>135</th>\n",
       "      <td>Vehicle loan or lease</td>\n",
       "      <td>Unable to get your credit report or credit score</td>\n",
       "      <td>4</td>\n",
       "      <td>3542</td>\n",
       "      <td>0.112931</td>\n",
       "    </tr>\n",
       "  </tbody>\n",
       "</table>\n",
       "<p>65 rows × 5 columns</p>\n",
       "</div>"
      ],
      "text/plain": [
       "                     product  \\\n",
       "0    Bank account or service   \n",
       "1    Bank account or service   \n",
       "2    Bank account or service   \n",
       "3    Bank account or service   \n",
       "4    Bank account or service   \n",
       "..                       ...   \n",
       "131    Vehicle loan or lease   \n",
       "132    Vehicle loan or lease   \n",
       "133    Vehicle loan or lease   \n",
       "134    Vehicle loan or lease   \n",
       "135    Vehicle loan or lease   \n",
       "\n",
       "                                                 issue  count  product_total  \\\n",
       "0              Account opening, closing, or management    427            777   \n",
       "1                             Deposits and withdrawals    189            777   \n",
       "2             Making/receiving payments, sending money     82            777   \n",
       "3                Problems caused by my funds being low     42            777   \n",
       "4                            Using a debit or ATM card     37            777   \n",
       "..                                                 ...    ...            ...   \n",
       "131  Problem with a credit reporting company's inve...    133           3542   \n",
       "132      Problem with fraud alerts or security freezes      1           3542   \n",
       "133           Problems at the end of the loan or lease    823           3542   \n",
       "134                        Struggling to pay your loan    558           3542   \n",
       "135   Unable to get your credit report or credit score      4           3542   \n",
       "\n",
       "     issue_rate  \n",
       "0     54.954955  \n",
       "1     24.324324  \n",
       "2     10.553411  \n",
       "3      5.405405  \n",
       "4      4.761905  \n",
       "..          ...  \n",
       "131    3.754941  \n",
       "132    0.028233  \n",
       "133   23.235460  \n",
       "134   15.753811  \n",
       "135    0.112931  \n",
       "\n",
       "[65 rows x 5 columns]"
      ]
     },
     "execution_count": 12,
     "metadata": {},
     "output_type": "execute_result"
    }
   ],
   "source": [
    "#Calculate the Rate of Each Issue as a Percentage of Each Product's Number\n",
    "merged_df = filtered_issues.merge(top_7_products.rename('product_total'), left_on='product', right_index=True)\n",
    "merged_df['issue_rate'] = (merged_df['count'] / merged_df['product_total']) * 100\n",
    "merged_df"
   ]
  },
  {
   "cell_type": "code",
   "execution_count": 13,
   "metadata": {},
   "outputs": [
    {
     "data": {
      "text/html": [
       "<div>\n",
       "<style scoped>\n",
       "    .dataframe tbody tr th:only-of-type {\n",
       "        vertical-align: middle;\n",
       "    }\n",
       "\n",
       "    .dataframe tbody tr th {\n",
       "        vertical-align: top;\n",
       "    }\n",
       "\n",
       "    .dataframe thead th {\n",
       "        text-align: right;\n",
       "    }\n",
       "</style>\n",
       "<table border=\"1\" class=\"dataframe\">\n",
       "  <thead>\n",
       "    <tr style=\"text-align: right;\">\n",
       "      <th></th>\n",
       "      <th>product</th>\n",
       "      <th>issue</th>\n",
       "      <th>count</th>\n",
       "      <th>product_total</th>\n",
       "      <th>issue_rate</th>\n",
       "    </tr>\n",
       "  </thead>\n",
       "  <tbody>\n",
       "    <tr>\n",
       "      <th>53</th>\n",
       "      <td>Credit reporting, credit repair services, or o...</td>\n",
       "      <td>Improper use of your report</td>\n",
       "      <td>1819</td>\n",
       "      <td>4214</td>\n",
       "      <td>43.165638</td>\n",
       "    </tr>\n",
       "    <tr>\n",
       "      <th>54</th>\n",
       "      <td>Credit reporting, credit repair services, or o...</td>\n",
       "      <td>Incorrect information on your report</td>\n",
       "      <td>1573</td>\n",
       "      <td>4214</td>\n",
       "      <td>37.327954</td>\n",
       "    </tr>\n",
       "    <tr>\n",
       "      <th>56</th>\n",
       "      <td>Credit reporting, credit repair services, or o...</td>\n",
       "      <td>Problem with a credit reporting company's inve...</td>\n",
       "      <td>759</td>\n",
       "      <td>4214</td>\n",
       "      <td>18.011391</td>\n",
       "    </tr>\n",
       "    <tr>\n",
       "      <th>49</th>\n",
       "      <td>Credit reporting, credit repair services, or o...</td>\n",
       "      <td>Credit monitoring or identity theft protection...</td>\n",
       "      <td>29</td>\n",
       "      <td>4214</td>\n",
       "      <td>0.688182</td>\n",
       "    </tr>\n",
       "    <tr>\n",
       "      <th>59</th>\n",
       "      <td>Credit reporting, credit repair services, or o...</td>\n",
       "      <td>Unable to get your credit report or credit score</td>\n",
       "      <td>8</td>\n",
       "      <td>4214</td>\n",
       "      <td>0.189843</td>\n",
       "    </tr>\n",
       "    <tr>\n",
       "      <th>...</th>\n",
       "      <td>...</td>\n",
       "      <td>...</td>\n",
       "      <td>...</td>\n",
       "      <td>...</td>\n",
       "      <td>...</td>\n",
       "    </tr>\n",
       "    <tr>\n",
       "      <th>93</th>\n",
       "      <td>Mortgage</td>\n",
       "      <td>Credit decision / Underwriting</td>\n",
       "      <td>3</td>\n",
       "      <td>295</td>\n",
       "      <td>1.016949</td>\n",
       "    </tr>\n",
       "    <tr>\n",
       "      <th>98</th>\n",
       "      <td>Mortgage</td>\n",
       "      <td>Other</td>\n",
       "      <td>2</td>\n",
       "      <td>295</td>\n",
       "      <td>0.677966</td>\n",
       "    </tr>\n",
       "    <tr>\n",
       "      <th>99</th>\n",
       "      <td>Mortgage</td>\n",
       "      <td>Problem with a credit reporting company's inve...</td>\n",
       "      <td>2</td>\n",
       "      <td>295</td>\n",
       "      <td>0.677966</td>\n",
       "    </tr>\n",
       "    <tr>\n",
       "      <th>94</th>\n",
       "      <td>Mortgage</td>\n",
       "      <td>Improper use of your report</td>\n",
       "      <td>1</td>\n",
       "      <td>295</td>\n",
       "      <td>0.338983</td>\n",
       "    </tr>\n",
       "    <tr>\n",
       "      <th>100</th>\n",
       "      <td>Mortgage</td>\n",
       "      <td>Settlement process and costs</td>\n",
       "      <td>1</td>\n",
       "      <td>295</td>\n",
       "      <td>0.338983</td>\n",
       "    </tr>\n",
       "  </tbody>\n",
       "</table>\n",
       "<p>65 rows × 5 columns</p>\n",
       "</div>"
      ],
      "text/plain": [
       "                                               product  \\\n",
       "53   Credit reporting, credit repair services, or o...   \n",
       "54   Credit reporting, credit repair services, or o...   \n",
       "56   Credit reporting, credit repair services, or o...   \n",
       "49   Credit reporting, credit repair services, or o...   \n",
       "59   Credit reporting, credit repair services, or o...   \n",
       "..                                                 ...   \n",
       "93                                            Mortgage   \n",
       "98                                            Mortgage   \n",
       "99                                            Mortgage   \n",
       "94                                            Mortgage   \n",
       "100                                           Mortgage   \n",
       "\n",
       "                                                 issue  count  product_total  \\\n",
       "53                         Improper use of your report   1819           4214   \n",
       "54                Incorrect information on your report   1573           4214   \n",
       "56   Problem with a credit reporting company's inve...    759           4214   \n",
       "49   Credit monitoring or identity theft protection...     29           4214   \n",
       "59    Unable to get your credit report or credit score      8           4214   \n",
       "..                                                 ...    ...            ...   \n",
       "93                      Credit decision / Underwriting      3            295   \n",
       "98                                               Other      2            295   \n",
       "99   Problem with a credit reporting company's inve...      2            295   \n",
       "94                         Improper use of your report      1            295   \n",
       "100                       Settlement process and costs      1            295   \n",
       "\n",
       "     issue_rate  \n",
       "53    43.165638  \n",
       "54    37.327954  \n",
       "56    18.011391  \n",
       "49     0.688182  \n",
       "59     0.189843  \n",
       "..          ...  \n",
       "93     1.016949  \n",
       "98     0.677966  \n",
       "99     0.677966  \n",
       "94     0.338983  \n",
       "100    0.338983  \n",
       "\n",
       "[65 rows x 5 columns]"
      ]
     },
     "execution_count": 13,
     "metadata": {},
     "output_type": "execute_result"
    }
   ],
   "source": [
    "# Sort merged_df by product_total and then issue_rate\n",
    "sorted_merged_df = merged_df.sort_values(by=['product_total', 'issue_rate'], ascending=[False, False])\n",
    "sorted_merged_df"
   ]
  },
  {
   "cell_type": "code",
   "execution_count": 14,
   "metadata": {},
   "outputs": [
    {
     "data": {
      "text/html": [
       "<div>\n",
       "<style scoped>\n",
       "    .dataframe tbody tr th:only-of-type {\n",
       "        vertical-align: middle;\n",
       "    }\n",
       "\n",
       "    .dataframe tbody tr th {\n",
       "        vertical-align: top;\n",
       "    }\n",
       "\n",
       "    .dataframe thead th {\n",
       "        text-align: right;\n",
       "    }\n",
       "</style>\n",
       "<table border=\"1\" class=\"dataframe\">\n",
       "  <thead>\n",
       "    <tr style=\"text-align: right;\">\n",
       "      <th></th>\n",
       "      <th>product</th>\n",
       "      <th>issue</th>\n",
       "      <th>count</th>\n",
       "      <th>product_total</th>\n",
       "      <th>issue_rate</th>\n",
       "      <th>cumulative_issue_rate</th>\n",
       "    </tr>\n",
       "  </thead>\n",
       "  <tbody>\n",
       "    <tr>\n",
       "      <th>53</th>\n",
       "      <td>Credit reporting, credit repair services, or o...</td>\n",
       "      <td>Improper use of your report</td>\n",
       "      <td>1819</td>\n",
       "      <td>4214</td>\n",
       "      <td>43.165638</td>\n",
       "      <td>43.165638</td>\n",
       "    </tr>\n",
       "    <tr>\n",
       "      <th>54</th>\n",
       "      <td>Credit reporting, credit repair services, or o...</td>\n",
       "      <td>Incorrect information on your report</td>\n",
       "      <td>1573</td>\n",
       "      <td>4214</td>\n",
       "      <td>37.327954</td>\n",
       "      <td>80.493593</td>\n",
       "    </tr>\n",
       "    <tr>\n",
       "      <th>130</th>\n",
       "      <td>Vehicle loan or lease</td>\n",
       "      <td>Managing the loan or lease</td>\n",
       "      <td>1211</td>\n",
       "      <td>3542</td>\n",
       "      <td>34.189723</td>\n",
       "      <td>34.189723</td>\n",
       "    </tr>\n",
       "    <tr>\n",
       "      <th>133</th>\n",
       "      <td>Vehicle loan or lease</td>\n",
       "      <td>Problems at the end of the loan or lease</td>\n",
       "      <td>823</td>\n",
       "      <td>3542</td>\n",
       "      <td>23.235460</td>\n",
       "      <td>57.425184</td>\n",
       "    </tr>\n",
       "    <tr>\n",
       "      <th>134</th>\n",
       "      <td>Vehicle loan or lease</td>\n",
       "      <td>Struggling to pay your loan</td>\n",
       "      <td>558</td>\n",
       "      <td>3542</td>\n",
       "      <td>15.753811</td>\n",
       "      <td>73.178995</td>\n",
       "    </tr>\n",
       "    <tr>\n",
       "      <th>127</th>\n",
       "      <td>Vehicle loan or lease</td>\n",
       "      <td>Getting a loan or lease</td>\n",
       "      <td>413</td>\n",
       "      <td>3542</td>\n",
       "      <td>11.660079</td>\n",
       "      <td>84.839074</td>\n",
       "    </tr>\n",
       "    <tr>\n",
       "      <th>8</th>\n",
       "      <td>Checking or savings account</td>\n",
       "      <td>Managing an account</td>\n",
       "      <td>1626</td>\n",
       "      <td>2283</td>\n",
       "      <td>71.222076</td>\n",
       "      <td>71.222076</td>\n",
       "    </tr>\n",
       "    <tr>\n",
       "      <th>5</th>\n",
       "      <td>Checking or savings account</td>\n",
       "      <td>Closing an account</td>\n",
       "      <td>286</td>\n",
       "      <td>2283</td>\n",
       "      <td>12.527376</td>\n",
       "      <td>83.749452</td>\n",
       "    </tr>\n",
       "    <tr>\n",
       "      <th>14</th>\n",
       "      <td>Consumer Loan</td>\n",
       "      <td>Managing the loan or lease</td>\n",
       "      <td>1291</td>\n",
       "      <td>2094</td>\n",
       "      <td>61.652340</td>\n",
       "      <td>61.652340</td>\n",
       "    </tr>\n",
       "    <tr>\n",
       "      <th>16</th>\n",
       "      <td>Consumer Loan</td>\n",
       "      <td>Problems when you are unable to pay</td>\n",
       "      <td>423</td>\n",
       "      <td>2094</td>\n",
       "      <td>20.200573</td>\n",
       "      <td>81.852913</td>\n",
       "    </tr>\n",
       "    <tr>\n",
       "      <th>61</th>\n",
       "      <td>Debt collection</td>\n",
       "      <td>Attempts to collect debt not owed</td>\n",
       "      <td>371</td>\n",
       "      <td>1187</td>\n",
       "      <td>31.255265</td>\n",
       "      <td>31.255265</td>\n",
       "    </tr>\n",
       "    <tr>\n",
       "      <th>62</th>\n",
       "      <td>Debt collection</td>\n",
       "      <td>Communication tactics</td>\n",
       "      <td>265</td>\n",
       "      <td>1187</td>\n",
       "      <td>22.325190</td>\n",
       "      <td>53.580455</td>\n",
       "    </tr>\n",
       "    <tr>\n",
       "      <th>70</th>\n",
       "      <td>Debt collection</td>\n",
       "      <td>Written notification about debt</td>\n",
       "      <td>137</td>\n",
       "      <td>1187</td>\n",
       "      <td>11.541702</td>\n",
       "      <td>65.122157</td>\n",
       "    </tr>\n",
       "    <tr>\n",
       "      <th>63</th>\n",
       "      <td>Debt collection</td>\n",
       "      <td>Cont'd attempts collect debt not owed</td>\n",
       "      <td>110</td>\n",
       "      <td>1187</td>\n",
       "      <td>9.267060</td>\n",
       "      <td>74.389217</td>\n",
       "    </tr>\n",
       "    <tr>\n",
       "      <th>65</th>\n",
       "      <td>Debt collection</td>\n",
       "      <td>False statements or representation</td>\n",
       "      <td>101</td>\n",
       "      <td>1187</td>\n",
       "      <td>8.508846</td>\n",
       "      <td>82.898062</td>\n",
       "    </tr>\n",
       "    <tr>\n",
       "      <th>69</th>\n",
       "      <td>Debt collection</td>\n",
       "      <td>Took or threatened to take negative or legal a...</td>\n",
       "      <td>83</td>\n",
       "      <td>1187</td>\n",
       "      <td>6.992418</td>\n",
       "      <td>89.890480</td>\n",
       "    </tr>\n",
       "    <tr>\n",
       "      <th>0</th>\n",
       "      <td>Bank account or service</td>\n",
       "      <td>Account opening, closing, or management</td>\n",
       "      <td>427</td>\n",
       "      <td>777</td>\n",
       "      <td>54.954955</td>\n",
       "      <td>54.954955</td>\n",
       "    </tr>\n",
       "    <tr>\n",
       "      <th>1</th>\n",
       "      <td>Bank account or service</td>\n",
       "      <td>Deposits and withdrawals</td>\n",
       "      <td>189</td>\n",
       "      <td>777</td>\n",
       "      <td>24.324324</td>\n",
       "      <td>79.279279</td>\n",
       "    </tr>\n",
       "    <tr>\n",
       "      <th>2</th>\n",
       "      <td>Bank account or service</td>\n",
       "      <td>Making/receiving payments, sending money</td>\n",
       "      <td>82</td>\n",
       "      <td>777</td>\n",
       "      <td>10.553411</td>\n",
       "      <td>89.832690</td>\n",
       "    </tr>\n",
       "    <tr>\n",
       "      <th>102</th>\n",
       "      <td>Mortgage</td>\n",
       "      <td>Trouble during payment process</td>\n",
       "      <td>108</td>\n",
       "      <td>295</td>\n",
       "      <td>36.610169</td>\n",
       "      <td>36.610169</td>\n",
       "    </tr>\n",
       "    <tr>\n",
       "      <th>91</th>\n",
       "      <td>Mortgage</td>\n",
       "      <td>Applying for a mortgage or refinancing an exis...</td>\n",
       "      <td>74</td>\n",
       "      <td>295</td>\n",
       "      <td>25.084746</td>\n",
       "      <td>61.694915</td>\n",
       "    </tr>\n",
       "    <tr>\n",
       "      <th>92</th>\n",
       "      <td>Mortgage</td>\n",
       "      <td>Closing on a mortgage</td>\n",
       "      <td>39</td>\n",
       "      <td>295</td>\n",
       "      <td>13.220339</td>\n",
       "      <td>74.915254</td>\n",
       "    </tr>\n",
       "    <tr>\n",
       "      <th>101</th>\n",
       "      <td>Mortgage</td>\n",
       "      <td>Struggling to pay mortgage</td>\n",
       "      <td>22</td>\n",
       "      <td>295</td>\n",
       "      <td>7.457627</td>\n",
       "      <td>82.372881</td>\n",
       "    </tr>\n",
       "    <tr>\n",
       "      <th>97</th>\n",
       "      <td>Mortgage</td>\n",
       "      <td>Loan servicing, payments, escrow account</td>\n",
       "      <td>15</td>\n",
       "      <td>295</td>\n",
       "      <td>5.084746</td>\n",
       "      <td>87.457627</td>\n",
       "    </tr>\n",
       "  </tbody>\n",
       "</table>\n",
       "</div>"
      ],
      "text/plain": [
       "                                               product  \\\n",
       "53   Credit reporting, credit repair services, or o...   \n",
       "54   Credit reporting, credit repair services, or o...   \n",
       "130                              Vehicle loan or lease   \n",
       "133                              Vehicle loan or lease   \n",
       "134                              Vehicle loan or lease   \n",
       "127                              Vehicle loan or lease   \n",
       "8                          Checking or savings account   \n",
       "5                          Checking or savings account   \n",
       "14                                       Consumer Loan   \n",
       "16                                       Consumer Loan   \n",
       "61                                     Debt collection   \n",
       "62                                     Debt collection   \n",
       "70                                     Debt collection   \n",
       "63                                     Debt collection   \n",
       "65                                     Debt collection   \n",
       "69                                     Debt collection   \n",
       "0                              Bank account or service   \n",
       "1                              Bank account or service   \n",
       "2                              Bank account or service   \n",
       "102                                           Mortgage   \n",
       "91                                            Mortgage   \n",
       "92                                            Mortgage   \n",
       "101                                           Mortgage   \n",
       "97                                            Mortgage   \n",
       "\n",
       "                                                 issue  count  product_total  \\\n",
       "53                         Improper use of your report   1819           4214   \n",
       "54                Incorrect information on your report   1573           4214   \n",
       "130                         Managing the loan or lease   1211           3542   \n",
       "133           Problems at the end of the loan or lease    823           3542   \n",
       "134                        Struggling to pay your loan    558           3542   \n",
       "127                            Getting a loan or lease    413           3542   \n",
       "8                                  Managing an account   1626           2283   \n",
       "5                                   Closing an account    286           2283   \n",
       "14                          Managing the loan or lease   1291           2094   \n",
       "16                 Problems when you are unable to pay    423           2094   \n",
       "61                   Attempts to collect debt not owed    371           1187   \n",
       "62                               Communication tactics    265           1187   \n",
       "70                     Written notification about debt    137           1187   \n",
       "63               Cont'd attempts collect debt not owed    110           1187   \n",
       "65                  False statements or representation    101           1187   \n",
       "69   Took or threatened to take negative or legal a...     83           1187   \n",
       "0              Account opening, closing, or management    427            777   \n",
       "1                             Deposits and withdrawals    189            777   \n",
       "2             Making/receiving payments, sending money     82            777   \n",
       "102                     Trouble during payment process    108            295   \n",
       "91   Applying for a mortgage or refinancing an exis...     74            295   \n",
       "92                               Closing on a mortgage     39            295   \n",
       "101                         Struggling to pay mortgage     22            295   \n",
       "97            Loan servicing, payments, escrow account     15            295   \n",
       "\n",
       "     issue_rate  cumulative_issue_rate  \n",
       "53    43.165638              43.165638  \n",
       "54    37.327954              80.493593  \n",
       "130   34.189723              34.189723  \n",
       "133   23.235460              57.425184  \n",
       "134   15.753811              73.178995  \n",
       "127   11.660079              84.839074  \n",
       "8     71.222076              71.222076  \n",
       "5     12.527376              83.749452  \n",
       "14    61.652340              61.652340  \n",
       "16    20.200573              81.852913  \n",
       "61    31.255265              31.255265  \n",
       "62    22.325190              53.580455  \n",
       "70    11.541702              65.122157  \n",
       "63     9.267060              74.389217  \n",
       "65     8.508846              82.898062  \n",
       "69     6.992418              89.890480  \n",
       "0     54.954955              54.954955  \n",
       "1     24.324324              79.279279  \n",
       "2     10.553411              89.832690  \n",
       "102   36.610169              36.610169  \n",
       "91    25.084746              61.694915  \n",
       "92    13.220339              74.915254  \n",
       "101    7.457627              82.372881  \n",
       "97     5.084746              87.457627  "
      ]
     },
     "execution_count": 14,
     "metadata": {},
     "output_type": "execute_result"
    }
   ],
   "source": [
    "# Sort by product_total and then issue_rate\n",
    "sorted_merged_df = merged_df.sort_values(by=['product_total', 'issue_rate'], ascending=[False, False])\n",
    "\n",
    "# Compute the cumulative sum of issue_rate within each product\n",
    "sorted_merged_df['cumulative_issue_rate'] = sorted_merged_df.groupby('product')['issue_rate'].cumsum()\n",
    "\n",
    "# Filter rows where cumulative sum is less than or equal to 90%\n",
    "final_df = sorted_merged_df[sorted_merged_df['cumulative_issue_rate'] <= 90]\n",
    "\n",
    "final_df"
   ]
  },
  {
   "cell_type": "code",
   "execution_count": 28,
   "metadata": {},
   "outputs": [
    {
     "data": {
      "application/vnd.plotly.v1+json": {
       "config": {
        "plotlyServerURL": "https://plot.ly"
       },
       "data": [
        {
         "hoverinfo": "y+text",
         "marker": {
          "color": "rgb(228,26,28)"
         },
         "name": "Credit reporting, credit repair services, or other personal consumer reports",
         "text": [
          "Credit reporting, credit repair services, or other personal consumer reports - Incorrect information on your report",
          "Credit reporting, credit repair services, or other personal consumer reports - Improper use of your report"
         ],
         "type": "bar",
         "x": [
          "Credit reporting, credit repair services, or other personal consumer reports - Incorrect information on your report",
          "Credit reporting, credit repair services, or other personal consumer reports - Improper use of your report"
         ],
         "y": [
          1573,
          1819
         ]
        },
        {
         "hoverinfo": "y+text",
         "line": {
          "color": "rgb(228,26,28)"
         },
         "mode": "lines+markers",
         "name": "Credit reporting, credit repair services, or other personal consumer reports",
         "showlegend": false,
         "text": [
          "Credit reporting, credit repair services, or other personal consumer reports - Incorrect information on your report",
          "Credit reporting, credit repair services, or other personal consumer reports - Improper use of your report"
         ],
         "type": "scatter",
         "x": [
          "Credit reporting, credit repair services, or other personal consumer reports - Incorrect information on your report",
          "Credit reporting, credit repair services, or other personal consumer reports - Improper use of your report"
         ],
         "y": [
          37.32795443758899,
          43.1656383483626
         ],
         "yaxis": "y2"
        },
        {
         "hoverinfo": "y+text",
         "marker": {
          "color": "rgb(55,126,184)"
         },
         "name": "Vehicle loan or lease",
         "text": [
          "Vehicle loan or lease - Getting a loan or lease",
          "Vehicle loan or lease - Struggling to pay your loan",
          "Vehicle loan or lease - Problems at the end of the loan or lease",
          "Vehicle loan or lease - Managing the loan or lease"
         ],
         "type": "bar",
         "x": [
          "Vehicle loan or lease - Getting a loan or lease",
          "Vehicle loan or lease - Struggling to pay your loan",
          "Vehicle loan or lease - Problems at the end of the loan or lease",
          "Vehicle loan or lease - Managing the loan or lease"
         ],
         "y": [
          413,
          558,
          823,
          1211
         ]
        },
        {
         "hoverinfo": "y+text",
         "line": {
          "color": "rgb(55,126,184)"
         },
         "mode": "lines+markers",
         "name": "Vehicle loan or lease",
         "showlegend": false,
         "text": [
          "Vehicle loan or lease - Getting a loan or lease",
          "Vehicle loan or lease - Struggling to pay your loan",
          "Vehicle loan or lease - Problems at the end of the loan or lease",
          "Vehicle loan or lease - Managing the loan or lease"
         ],
         "type": "scatter",
         "x": [
          "Vehicle loan or lease - Getting a loan or lease",
          "Vehicle loan or lease - Struggling to pay your loan",
          "Vehicle loan or lease - Problems at the end of the loan or lease",
          "Vehicle loan or lease - Managing the loan or lease"
         ],
         "y": [
          11.6600790513834,
          15.753811405985319,
          23.23546019198193,
          34.18972332015811
         ],
         "yaxis": "y2"
        },
        {
         "hoverinfo": "y+text",
         "marker": {
          "color": "rgb(77,175,74)"
         },
         "name": "Checking or savings account",
         "text": [
          "Checking or savings account - Closing an account",
          "Checking or savings account - Managing an account"
         ],
         "type": "bar",
         "x": [
          "Checking or savings account - Closing an account",
          "Checking or savings account - Managing an account"
         ],
         "y": [
          286,
          1626
         ]
        },
        {
         "hoverinfo": "y+text",
         "line": {
          "color": "rgb(77,175,74)"
         },
         "mode": "lines+markers",
         "name": "Checking or savings account",
         "showlegend": false,
         "text": [
          "Checking or savings account - Closing an account",
          "Checking or savings account - Managing an account"
         ],
         "type": "scatter",
         "x": [
          "Checking or savings account - Closing an account",
          "Checking or savings account - Managing an account"
         ],
         "y": [
          12.527376259307928,
          71.22207621550591
         ],
         "yaxis": "y2"
        },
        {
         "hoverinfo": "y+text",
         "marker": {
          "color": "rgb(152,78,163)"
         },
         "name": "Consumer Loan",
         "text": [
          "Consumer Loan - Problems when you are unable to pay",
          "Consumer Loan - Managing the loan or lease"
         ],
         "type": "bar",
         "x": [
          "Consumer Loan - Problems when you are unable to pay",
          "Consumer Loan - Managing the loan or lease"
         ],
         "y": [
          423,
          1291
         ]
        },
        {
         "hoverinfo": "y+text",
         "line": {
          "color": "rgb(152,78,163)"
         },
         "mode": "lines+markers",
         "name": "Consumer Loan",
         "showlegend": false,
         "text": [
          "Consumer Loan - Problems when you are unable to pay",
          "Consumer Loan - Managing the loan or lease"
         ],
         "type": "scatter",
         "x": [
          "Consumer Loan - Problems when you are unable to pay",
          "Consumer Loan - Managing the loan or lease"
         ],
         "y": [
          20.20057306590258,
          61.65234001910219
         ],
         "yaxis": "y2"
        },
        {
         "hoverinfo": "y+text",
         "marker": {
          "color": "rgb(255,127,0)"
         },
         "name": "Debt collection",
         "text": [
          "Debt collection - Took or threatened to take negative or legal action",
          "Debt collection - False statements or representation",
          "Debt collection - Cont'd attempts collect debt not owed",
          "Debt collection - Written notification about debt",
          "Debt collection - Communication tactics",
          "Debt collection - Attempts to collect debt not owed"
         ],
         "type": "bar",
         "x": [
          "Debt collection - Took or threatened to take negative or legal action",
          "Debt collection - False statements or representation",
          "Debt collection - Cont'd attempts collect debt not owed",
          "Debt collection - Written notification about debt",
          "Debt collection - Communication tactics",
          "Debt collection - Attempts to collect debt not owed"
         ],
         "y": [
          83,
          101,
          110,
          137,
          265,
          371
         ]
        },
        {
         "hoverinfo": "y+text",
         "line": {
          "color": "rgb(255,127,0)"
         },
         "mode": "lines+markers",
         "name": "Debt collection",
         "showlegend": false,
         "text": [
          "Debt collection - Took or threatened to take negative or legal action",
          "Debt collection - False statements or representation",
          "Debt collection - Cont'd attempts collect debt not owed",
          "Debt collection - Written notification about debt",
          "Debt collection - Communication tactics",
          "Debt collection - Attempts to collect debt not owed"
         ],
         "type": "scatter",
         "x": [
          "Debt collection - Took or threatened to take negative or legal action",
          "Debt collection - False statements or representation",
          "Debt collection - Cont'd attempts collect debt not owed",
          "Debt collection - Written notification about debt",
          "Debt collection - Communication tactics",
          "Debt collection - Attempts to collect debt not owed"
         ],
         "y": [
          6.992417860151642,
          8.508845829823084,
          9.267059814658804,
          11.541701769165964,
          22.32518955349621,
          31.25526537489469
         ],
         "yaxis": "y2"
        },
        {
         "hoverinfo": "y+text",
         "marker": {
          "color": "rgb(255,255,51)"
         },
         "name": "Bank account or service",
         "text": [
          "Bank account or service - Making/receiving payments, sending money",
          "Bank account or service - Deposits and withdrawals",
          "Bank account or service - Account opening, closing, or management"
         ],
         "type": "bar",
         "x": [
          "Bank account or service - Making/receiving payments, sending money",
          "Bank account or service - Deposits and withdrawals",
          "Bank account or service - Account opening, closing, or management"
         ],
         "y": [
          82,
          189,
          427
         ]
        },
        {
         "hoverinfo": "y+text",
         "line": {
          "color": "rgb(255,255,51)"
         },
         "mode": "lines+markers",
         "name": "Bank account or service",
         "showlegend": false,
         "text": [
          "Bank account or service - Making/receiving payments, sending money",
          "Bank account or service - Deposits and withdrawals",
          "Bank account or service - Account opening, closing, or management"
         ],
         "type": "scatter",
         "x": [
          "Bank account or service - Making/receiving payments, sending money",
          "Bank account or service - Deposits and withdrawals",
          "Bank account or service - Account opening, closing, or management"
         ],
         "y": [
          10.553410553410554,
          24.324324324324326,
          54.95495495495496
         ],
         "yaxis": "y2"
        },
        {
         "hoverinfo": "y+text",
         "marker": {
          "color": "rgb(166,86,40)"
         },
         "name": "Mortgage",
         "text": [
          "Mortgage - Loan servicing, payments, escrow account",
          "Mortgage - Struggling to pay mortgage",
          "Mortgage - Closing on a mortgage",
          "Mortgage - Applying for a mortgage or refinancing an existing mortgage",
          "Mortgage - Trouble during payment process"
         ],
         "type": "bar",
         "x": [
          "Mortgage - Loan servicing, payments, escrow account",
          "Mortgage - Struggling to pay mortgage",
          "Mortgage - Closing on a mortgage",
          "Mortgage - Applying for a mortgage or refinancing an existing mortgage",
          "Mortgage - Trouble during payment process"
         ],
         "y": [
          15,
          22,
          39,
          74,
          108
         ]
        },
        {
         "hoverinfo": "y+text",
         "line": {
          "color": "rgb(166,86,40)"
         },
         "mode": "lines+markers",
         "name": "Mortgage",
         "showlegend": false,
         "text": [
          "Mortgage - Loan servicing, payments, escrow account",
          "Mortgage - Struggling to pay mortgage",
          "Mortgage - Closing on a mortgage",
          "Mortgage - Applying for a mortgage or refinancing an existing mortgage",
          "Mortgage - Trouble during payment process"
         ],
         "type": "scatter",
         "x": [
          "Mortgage - Loan servicing, payments, escrow account",
          "Mortgage - Struggling to pay mortgage",
          "Mortgage - Closing on a mortgage",
          "Mortgage - Applying for a mortgage or refinancing an existing mortgage",
          "Mortgage - Trouble during payment process"
         ],
         "y": [
          5.084745762711865,
          7.457627118644068,
          13.220338983050848,
          25.08474576271186,
          36.610169491525426
         ],
         "yaxis": "y2"
        }
       ],
       "layout": {
        "hovermode": "x unified",
        "legend": {
         "orientation": "h",
         "x": 1,
         "xanchor": "right",
         "y": 1.02,
         "yanchor": "bottom"
        },
        "template": {
         "data": {
          "bar": [
           {
            "error_x": {
             "color": "#2a3f5f"
            },
            "error_y": {
             "color": "#2a3f5f"
            },
            "marker": {
             "line": {
              "color": "#E5ECF6",
              "width": 0.5
             },
             "pattern": {
              "fillmode": "overlay",
              "size": 10,
              "solidity": 0.2
             }
            },
            "type": "bar"
           }
          ],
          "barpolar": [
           {
            "marker": {
             "line": {
              "color": "#E5ECF6",
              "width": 0.5
             },
             "pattern": {
              "fillmode": "overlay",
              "size": 10,
              "solidity": 0.2
             }
            },
            "type": "barpolar"
           }
          ],
          "carpet": [
           {
            "aaxis": {
             "endlinecolor": "#2a3f5f",
             "gridcolor": "white",
             "linecolor": "white",
             "minorgridcolor": "white",
             "startlinecolor": "#2a3f5f"
            },
            "baxis": {
             "endlinecolor": "#2a3f5f",
             "gridcolor": "white",
             "linecolor": "white",
             "minorgridcolor": "white",
             "startlinecolor": "#2a3f5f"
            },
            "type": "carpet"
           }
          ],
          "choropleth": [
           {
            "colorbar": {
             "outlinewidth": 0,
             "ticks": ""
            },
            "type": "choropleth"
           }
          ],
          "contour": [
           {
            "colorbar": {
             "outlinewidth": 0,
             "ticks": ""
            },
            "colorscale": [
             [
              0,
              "#0d0887"
             ],
             [
              0.1111111111111111,
              "#46039f"
             ],
             [
              0.2222222222222222,
              "#7201a8"
             ],
             [
              0.3333333333333333,
              "#9c179e"
             ],
             [
              0.4444444444444444,
              "#bd3786"
             ],
             [
              0.5555555555555556,
              "#d8576b"
             ],
             [
              0.6666666666666666,
              "#ed7953"
             ],
             [
              0.7777777777777778,
              "#fb9f3a"
             ],
             [
              0.8888888888888888,
              "#fdca26"
             ],
             [
              1,
              "#f0f921"
             ]
            ],
            "type": "contour"
           }
          ],
          "contourcarpet": [
           {
            "colorbar": {
             "outlinewidth": 0,
             "ticks": ""
            },
            "type": "contourcarpet"
           }
          ],
          "heatmap": [
           {
            "colorbar": {
             "outlinewidth": 0,
             "ticks": ""
            },
            "colorscale": [
             [
              0,
              "#0d0887"
             ],
             [
              0.1111111111111111,
              "#46039f"
             ],
             [
              0.2222222222222222,
              "#7201a8"
             ],
             [
              0.3333333333333333,
              "#9c179e"
             ],
             [
              0.4444444444444444,
              "#bd3786"
             ],
             [
              0.5555555555555556,
              "#d8576b"
             ],
             [
              0.6666666666666666,
              "#ed7953"
             ],
             [
              0.7777777777777778,
              "#fb9f3a"
             ],
             [
              0.8888888888888888,
              "#fdca26"
             ],
             [
              1,
              "#f0f921"
             ]
            ],
            "type": "heatmap"
           }
          ],
          "heatmapgl": [
           {
            "colorbar": {
             "outlinewidth": 0,
             "ticks": ""
            },
            "colorscale": [
             [
              0,
              "#0d0887"
             ],
             [
              0.1111111111111111,
              "#46039f"
             ],
             [
              0.2222222222222222,
              "#7201a8"
             ],
             [
              0.3333333333333333,
              "#9c179e"
             ],
             [
              0.4444444444444444,
              "#bd3786"
             ],
             [
              0.5555555555555556,
              "#d8576b"
             ],
             [
              0.6666666666666666,
              "#ed7953"
             ],
             [
              0.7777777777777778,
              "#fb9f3a"
             ],
             [
              0.8888888888888888,
              "#fdca26"
             ],
             [
              1,
              "#f0f921"
             ]
            ],
            "type": "heatmapgl"
           }
          ],
          "histogram": [
           {
            "marker": {
             "pattern": {
              "fillmode": "overlay",
              "size": 10,
              "solidity": 0.2
             }
            },
            "type": "histogram"
           }
          ],
          "histogram2d": [
           {
            "colorbar": {
             "outlinewidth": 0,
             "ticks": ""
            },
            "colorscale": [
             [
              0,
              "#0d0887"
             ],
             [
              0.1111111111111111,
              "#46039f"
             ],
             [
              0.2222222222222222,
              "#7201a8"
             ],
             [
              0.3333333333333333,
              "#9c179e"
             ],
             [
              0.4444444444444444,
              "#bd3786"
             ],
             [
              0.5555555555555556,
              "#d8576b"
             ],
             [
              0.6666666666666666,
              "#ed7953"
             ],
             [
              0.7777777777777778,
              "#fb9f3a"
             ],
             [
              0.8888888888888888,
              "#fdca26"
             ],
             [
              1,
              "#f0f921"
             ]
            ],
            "type": "histogram2d"
           }
          ],
          "histogram2dcontour": [
           {
            "colorbar": {
             "outlinewidth": 0,
             "ticks": ""
            },
            "colorscale": [
             [
              0,
              "#0d0887"
             ],
             [
              0.1111111111111111,
              "#46039f"
             ],
             [
              0.2222222222222222,
              "#7201a8"
             ],
             [
              0.3333333333333333,
              "#9c179e"
             ],
             [
              0.4444444444444444,
              "#bd3786"
             ],
             [
              0.5555555555555556,
              "#d8576b"
             ],
             [
              0.6666666666666666,
              "#ed7953"
             ],
             [
              0.7777777777777778,
              "#fb9f3a"
             ],
             [
              0.8888888888888888,
              "#fdca26"
             ],
             [
              1,
              "#f0f921"
             ]
            ],
            "type": "histogram2dcontour"
           }
          ],
          "mesh3d": [
           {
            "colorbar": {
             "outlinewidth": 0,
             "ticks": ""
            },
            "type": "mesh3d"
           }
          ],
          "parcoords": [
           {
            "line": {
             "colorbar": {
              "outlinewidth": 0,
              "ticks": ""
             }
            },
            "type": "parcoords"
           }
          ],
          "pie": [
           {
            "automargin": true,
            "type": "pie"
           }
          ],
          "scatter": [
           {
            "fillpattern": {
             "fillmode": "overlay",
             "size": 10,
             "solidity": 0.2
            },
            "type": "scatter"
           }
          ],
          "scatter3d": [
           {
            "line": {
             "colorbar": {
              "outlinewidth": 0,
              "ticks": ""
             }
            },
            "marker": {
             "colorbar": {
              "outlinewidth": 0,
              "ticks": ""
             }
            },
            "type": "scatter3d"
           }
          ],
          "scattercarpet": [
           {
            "marker": {
             "colorbar": {
              "outlinewidth": 0,
              "ticks": ""
             }
            },
            "type": "scattercarpet"
           }
          ],
          "scattergeo": [
           {
            "marker": {
             "colorbar": {
              "outlinewidth": 0,
              "ticks": ""
             }
            },
            "type": "scattergeo"
           }
          ],
          "scattergl": [
           {
            "marker": {
             "colorbar": {
              "outlinewidth": 0,
              "ticks": ""
             }
            },
            "type": "scattergl"
           }
          ],
          "scattermapbox": [
           {
            "marker": {
             "colorbar": {
              "outlinewidth": 0,
              "ticks": ""
             }
            },
            "type": "scattermapbox"
           }
          ],
          "scatterpolar": [
           {
            "marker": {
             "colorbar": {
              "outlinewidth": 0,
              "ticks": ""
             }
            },
            "type": "scatterpolar"
           }
          ],
          "scatterpolargl": [
           {
            "marker": {
             "colorbar": {
              "outlinewidth": 0,
              "ticks": ""
             }
            },
            "type": "scatterpolargl"
           }
          ],
          "scatterternary": [
           {
            "marker": {
             "colorbar": {
              "outlinewidth": 0,
              "ticks": ""
             }
            },
            "type": "scatterternary"
           }
          ],
          "surface": [
           {
            "colorbar": {
             "outlinewidth": 0,
             "ticks": ""
            },
            "colorscale": [
             [
              0,
              "#0d0887"
             ],
             [
              0.1111111111111111,
              "#46039f"
             ],
             [
              0.2222222222222222,
              "#7201a8"
             ],
             [
              0.3333333333333333,
              "#9c179e"
             ],
             [
              0.4444444444444444,
              "#bd3786"
             ],
             [
              0.5555555555555556,
              "#d8576b"
             ],
             [
              0.6666666666666666,
              "#ed7953"
             ],
             [
              0.7777777777777778,
              "#fb9f3a"
             ],
             [
              0.8888888888888888,
              "#fdca26"
             ],
             [
              1,
              "#f0f921"
             ]
            ],
            "type": "surface"
           }
          ],
          "table": [
           {
            "cells": {
             "fill": {
              "color": "#EBF0F8"
             },
             "line": {
              "color": "white"
             }
            },
            "header": {
             "fill": {
              "color": "#C8D4E3"
             },
             "line": {
              "color": "white"
             }
            },
            "type": "table"
           }
          ]
         },
         "layout": {
          "annotationdefaults": {
           "arrowcolor": "#2a3f5f",
           "arrowhead": 0,
           "arrowwidth": 1
          },
          "autotypenumbers": "strict",
          "coloraxis": {
           "colorbar": {
            "outlinewidth": 0,
            "ticks": ""
           }
          },
          "colorscale": {
           "diverging": [
            [
             0,
             "#8e0152"
            ],
            [
             0.1,
             "#c51b7d"
            ],
            [
             0.2,
             "#de77ae"
            ],
            [
             0.3,
             "#f1b6da"
            ],
            [
             0.4,
             "#fde0ef"
            ],
            [
             0.5,
             "#f7f7f7"
            ],
            [
             0.6,
             "#e6f5d0"
            ],
            [
             0.7,
             "#b8e186"
            ],
            [
             0.8,
             "#7fbc41"
            ],
            [
             0.9,
             "#4d9221"
            ],
            [
             1,
             "#276419"
            ]
           ],
           "sequential": [
            [
             0,
             "#0d0887"
            ],
            [
             0.1111111111111111,
             "#46039f"
            ],
            [
             0.2222222222222222,
             "#7201a8"
            ],
            [
             0.3333333333333333,
             "#9c179e"
            ],
            [
             0.4444444444444444,
             "#bd3786"
            ],
            [
             0.5555555555555556,
             "#d8576b"
            ],
            [
             0.6666666666666666,
             "#ed7953"
            ],
            [
             0.7777777777777778,
             "#fb9f3a"
            ],
            [
             0.8888888888888888,
             "#fdca26"
            ],
            [
             1,
             "#f0f921"
            ]
           ],
           "sequentialminus": [
            [
             0,
             "#0d0887"
            ],
            [
             0.1111111111111111,
             "#46039f"
            ],
            [
             0.2222222222222222,
             "#7201a8"
            ],
            [
             0.3333333333333333,
             "#9c179e"
            ],
            [
             0.4444444444444444,
             "#bd3786"
            ],
            [
             0.5555555555555556,
             "#d8576b"
            ],
            [
             0.6666666666666666,
             "#ed7953"
            ],
            [
             0.7777777777777778,
             "#fb9f3a"
            ],
            [
             0.8888888888888888,
             "#fdca26"
            ],
            [
             1,
             "#f0f921"
            ]
           ]
          },
          "colorway": [
           "#636efa",
           "#EF553B",
           "#00cc96",
           "#ab63fa",
           "#FFA15A",
           "#19d3f3",
           "#FF6692",
           "#B6E880",
           "#FF97FF",
           "#FECB52"
          ],
          "font": {
           "color": "#2a3f5f"
          },
          "geo": {
           "bgcolor": "white",
           "lakecolor": "white",
           "landcolor": "#E5ECF6",
           "showlakes": true,
           "showland": true,
           "subunitcolor": "white"
          },
          "hoverlabel": {
           "align": "left"
          },
          "hovermode": "closest",
          "mapbox": {
           "style": "light"
          },
          "paper_bgcolor": "white",
          "plot_bgcolor": "#E5ECF6",
          "polar": {
           "angularaxis": {
            "gridcolor": "white",
            "linecolor": "white",
            "ticks": ""
           },
           "bgcolor": "#E5ECF6",
           "radialaxis": {
            "gridcolor": "white",
            "linecolor": "white",
            "ticks": ""
           }
          },
          "scene": {
           "xaxis": {
            "backgroundcolor": "#E5ECF6",
            "gridcolor": "white",
            "gridwidth": 2,
            "linecolor": "white",
            "showbackground": true,
            "ticks": "",
            "zerolinecolor": "white"
           },
           "yaxis": {
            "backgroundcolor": "#E5ECF6",
            "gridcolor": "white",
            "gridwidth": 2,
            "linecolor": "white",
            "showbackground": true,
            "ticks": "",
            "zerolinecolor": "white"
           },
           "zaxis": {
            "backgroundcolor": "#E5ECF6",
            "gridcolor": "white",
            "gridwidth": 2,
            "linecolor": "white",
            "showbackground": true,
            "ticks": "",
            "zerolinecolor": "white"
           }
          },
          "shapedefaults": {
           "line": {
            "color": "#2a3f5f"
           }
          },
          "ternary": {
           "aaxis": {
            "gridcolor": "white",
            "linecolor": "white",
            "ticks": ""
           },
           "baxis": {
            "gridcolor": "white",
            "linecolor": "white",
            "ticks": ""
           },
           "bgcolor": "#E5ECF6",
           "caxis": {
            "gridcolor": "white",
            "linecolor": "white",
            "ticks": ""
           }
          },
          "title": {
           "x": 0.05
          },
          "xaxis": {
           "automargin": true,
           "gridcolor": "white",
           "linecolor": "white",
           "ticks": "",
           "title": {
            "standoff": 15
           },
           "zerolinecolor": "white",
           "zerolinewidth": 2
          },
          "yaxis": {
           "automargin": true,
           "gridcolor": "white",
           "linecolor": "white",
           "ticks": "",
           "title": {
            "standoff": 15
           },
           "zerolinecolor": "white",
           "zerolinewidth": 2
          }
         }
        },
        "title": {
         "text": "Issue Counts and Issue Rates by Product"
        },
        "xaxis": {
         "showticklabels": false,
         "title": {
          "text": "Products and Issues"
         }
        },
        "yaxis": {
         "title": {
          "text": "Count"
         }
        },
        "yaxis2": {
         "overlaying": "y",
         "side": "right",
         "title": {
          "text": "Issue Rate (%)"
         }
        }
       }
      }
     },
     "metadata": {},
     "output_type": "display_data"
    }
   ],
   "source": [
    "import plotly.express as px\n",
    "\n",
    "# Combine issue and product columns to form a new categorical x-axis\n",
    "final_df['combined'] = final_df['product'] + \" - \" + final_df['issue']\n",
    "\n",
    "# Sort the dataframe by product_totals and issue_rate to maintain order in the chart\n",
    "final_df = final_df.sort_values(by=['product_total', 'issue_rate'], ascending=[False, True])\n",
    "\n",
    "# Colors\n",
    "colors = px.colors.qualitative.Set1\n",
    "\n",
    "# Mapping products to colors\n",
    "product_to_color = {product: colors[idx] for idx, product in enumerate(final_df['product'].unique())}\n",
    "\n",
    "fig = go.Figure()\n",
    "\n",
    "# Plotted both bars and lines in a single loop for each product\n",
    "for product in final_df['product'].unique():\n",
    "    subset_df = final_df[final_df['product'] == product]\n",
    "    \n",
    "    # Bar for counts\n",
    "    fig.add_trace(go.Bar(\n",
    "        x=subset_df['combined'],\n",
    "        y=subset_df['count'],\n",
    "        name=product,\n",
    "        marker_color=product_to_color[product],\n",
    "        hoverinfo='y+text',\n",
    "        text=subset_df['combined']\n",
    "    ))\n",
    "    \n",
    "    # Line for issue rate\n",
    "    fig.add_trace(go.Scatter(\n",
    "        x=subset_df['combined'],\n",
    "        y=subset_df['issue_rate'],\n",
    "        yaxis='y2',\n",
    "        mode='lines+markers',\n",
    "        line=dict(color=product_to_color[product]),\n",
    "        name=product,\n",
    "        hoverinfo='y+text',\n",
    "        text=subset_df['combined'],\n",
    "        showlegend=False\n",
    "    ))\n",
    "\n",
    "# Updating layout\n",
    "fig.update_layout(\n",
    "    title=\"Issue Counts and Issue Rates by Product\",\n",
    "    xaxis_title=\"Products and Issues\",\n",
    "    yaxis_title=\"Count\",\n",
    "    yaxis2=dict(title=\"Issue Rate (%)\", overlaying='y', side='right'),\n",
    "    hovermode=\"x unified\",\n",
    "    xaxis=dict(showticklabels=False),\n",
    "    legend=dict(orientation=\"h\", yanchor=\"bottom\", y=1.02, xanchor=\"right\", x=1)\n",
    ")\n",
    "\n",
    "fig.show()\n"
   ]
  },
  {
   "cell_type": "markdown",
   "metadata": {},
   "source": [
    "Distribution of Complaints by states"
   ]
  },
  {
   "cell_type": "code",
   "execution_count": 2,
   "metadata": {},
   "outputs": [
    {
     "data": {
      "text/plain": [
       "168"
      ]
     },
     "execution_count": 2,
     "metadata": {},
     "output_type": "execute_result"
    }
   ],
   "source": [
    "# Importing the required libraries for plotting\n",
    "import matplotlib.pyplot as plt\n",
    "import seaborn as sns\n",
    "\n",
    "# Extracting the 'state' information from the '_source' column\n",
    "complaints_data['state'] = complaints_data['_source'].apply(lambda x: x.get('state', None))\n",
    "\n",
    "# Checking for missing values in 'state' column\n",
    "missing_states = complaints_data['state'].isna().sum()\n",
    "\n",
    "missing_states\n"
   ]
  },
  {
   "cell_type": "code",
   "execution_count": null,
   "metadata": {},
   "outputs": [],
   "source": [
    "complaints-2023-08-25_18_02.json\n",
    "state_abbrev = {\n",
    "    'Alabama': 'AL', 'Alaska': 'AK', 'Arizona': 'AZ', 'Arkansas': 'AR', 'California': 'CA', 'Colorado': 'CO',\n",
    "    'Connecticut': 'CT', 'Delaware': 'DE', 'Florida': 'FL', 'Georgia': 'GA', 'Hawaii': 'HI', 'Idaho': 'ID',\n",
    "    'Illinois': 'IL', 'Indiana': 'IN', 'Iowa': 'IA', 'Kansas': 'KS', 'Kentucky': 'KY', 'Louisiana': 'LA',\n",
    "    'Maine': 'ME', 'Maryland': 'MD', 'Massachusetts': 'MA', 'Michigan': 'MI', 'Minnesota': 'MN', 'Mississippi': 'MS',\n",
    "    'Missouri': 'MO', 'Montana': 'MT', 'Nebraska': 'NE', 'Nevada': 'NV', 'New Hampshire': 'NH', 'New Jersey': 'NJ',\n",
    "    'New Mexico': 'NM', 'New York': 'NY', 'North Carolina': 'NC', 'North Dakota': 'ND', 'Ohio': 'OH', 'Oklahoma': 'OK',\n",
    "    'Oregon': 'OR', 'Pennsylvania': 'PA', 'Rhode Island': 'RI', 'South Carolina': 'SC', 'South Dakota': 'SD',\n",
    "    'Tennessee': 'TN', 'Texas': 'TX', 'Utah': 'UT', 'Vermont': 'VT', 'Virginia': 'VA', 'Washington': 'WA',\n",
    "    'West Virginia': 'WV', 'Wisconsin': 'WI', 'Wyoming': 'WY'\n",
    "}"
   ]
  },
  {
   "cell_type": "code",
   "execution_count": 11,
   "metadata": {},
   "outputs": [
    {
     "name": "stdout",
     "output_type": "stream",
     "text": [
      "   state  count\n",
      "0     AE      3\n",
      "1     AK     15\n",
      "2     AL    194\n",
      "3     AR    138\n",
      "4     AZ    351\n",
      "5     CA   1551\n",
      "6     CO    206\n",
      "7     CT    193\n",
      "8     DC     71\n",
      "9     DE    104\n",
      "10    FL   1529\n",
      "11    FM      1\n",
      "12    GA    867\n",
      "13    GU      1\n",
      "14    HI     30\n",
      "15    IA     49\n",
      "16    ID     28\n",
      "17    IL    672\n",
      "18    IN    155\n",
      "19    KS     67\n",
      "20    KY     85\n",
      "21    LA    185\n",
      "22    MA    318\n",
      "23    MD    423\n",
      "24    ME     38\n",
      "25    MI    554\n",
      "26    MN    137\n",
      "27    MO    221\n",
      "28    MS    133\n",
      "29    MT     23\n",
      "30    NC    517\n",
      "31    ND     24\n",
      "32    NE     33\n",
      "33    NH     32\n",
      "34    NJ    606\n",
      "35    NM     43\n",
      "36    NV    192\n",
      "37    NY    822\n",
      "38    OH    553\n",
      "39    OK    117\n",
      "40    OR    105\n",
      "41    PA    712\n",
      "42    PR      5\n",
      "43    RI     53\n",
      "44    SC    226\n",
      "45    SD     19\n",
      "46    TN    298\n",
      "47    TX   1332\n",
      "48    UT     59\n",
      "49    VA    364\n",
      "50    VT     18\n",
      "51    WA    176\n",
      "52    WI    136\n",
      "53    WV     51\n",
      "54    WY     18\n"
     ]
    }
   ],
   "source": [
    "import pandas as pd\n",
    "\n",
    "# Load the complaints data (replace this with the path to your JSON file)\n",
    "complaints_data = pd.read_json(\"complaints-2023-08-25_18_02.json\")\n",
    "\n",
    "# Extract the 'state' information from the '_source' column\n",
    "complaints_data['state'] = complaints_data['_source'].apply(lambda x: x.get('state', None))\n",
    "\n",
    "# Aggregate the complaints data by state and count\n",
    "complaints_by_state = complaints_data['state'].value_counts().reset_index()\n",
    "complaints_by_state.columns = ['state', 'count']\n",
    "\n",
    "# Create a list of all US states (abbreviations)\n",
    "usa_states = [\n",
    "    'AK', 'AL', 'AR', 'AZ', 'CA', 'CO', 'CT', 'DC', 'DE', 'FL', 'GA', \n",
    "    'HI', 'IA', 'ID', 'IL', 'IN', 'KS', 'KY', 'LA', 'MA', 'MD', 'ME', \n",
    "    'MI', 'MN', 'MO', 'MS', 'MT', 'NC', 'ND', 'NE', 'NH', 'NJ', 'NM', \n",
    "    'NV', 'NY', 'OH', 'OK', 'OR', 'PA', 'RI', 'SC', 'SD', 'TN', 'TX', \n",
    "    'UT', 'VA', 'VT', 'WA', 'WI', 'WV', 'WY'\n",
    "]\n",
    "\n",
    "# Add rows for missing states with a count of 0\n",
    "missing_states = set(usa_states) - set(complaints_by_state['state'])\n",
    "for state in missing_states:\n",
    "    complaints_by_state = complaints_by_state.append({'state': state, 'count': 0}, ignore_index=True)\n",
    "\n",
    "# Sort by state for easier inspection\n",
    "complaints_by_state = complaints_by_state.sort_values('state').reset_index(drop=True)\n",
    "\n",
    "print(complaints_by_state)\n"
   ]
  },
  {
   "cell_type": "code",
   "execution_count": 14,
   "metadata": {},
   "outputs": [
    {
     "name": "stdout",
     "output_type": "stream",
     "text": [
      "{'GEO_ID': '0400000US23', 'STATE': '23', 'NAME': 'Maine', 'LSAD': '', 'CENSUSAREA': 30842.923}\n"
     ]
    }
   ],
   "source": [
    "import json\n",
    "\n",
    "# Load GeoJSON data for U.S. states (replace this with the path to your GeoJSON file)\n",
    "us_states = json.load(open(\"gz_2010_us_040_00_500k.json\"))\n",
    "\n",
    "# Print properties of the first feature\n",
    "print(us_states['features'][0]['properties'])\n"
   ]
  },
  {
   "cell_type": "code",
   "execution_count": 19,
   "metadata": {},
   "outputs": [
    {
     "data": {
      "application/vnd.plotly.v1+json": {
       "config": {
        "plotlyServerURL": "https://plot.ly"
       },
       "data": [
        {
         "coloraxis": "coloraxis",
         "customdata": [
          [
           3
          ],
          [
           15
          ],
          [
           194
          ],
          [
           138
          ],
          [
           351
          ],
          [
           1551
          ],
          [
           206
          ],
          [
           193
          ],
          [
           71
          ],
          [
           104
          ],
          [
           1529
          ],
          [
           1
          ],
          [
           867
          ],
          [
           1
          ],
          [
           30
          ],
          [
           49
          ],
          [
           28
          ],
          [
           672
          ],
          [
           155
          ],
          [
           67
          ],
          [
           85
          ],
          [
           185
          ],
          [
           318
          ],
          [
           423
          ],
          [
           38
          ],
          [
           554
          ],
          [
           137
          ],
          [
           221
          ],
          [
           133
          ],
          [
           23
          ],
          [
           517
          ],
          [
           24
          ],
          [
           33
          ],
          [
           32
          ],
          [
           606
          ],
          [
           43
          ],
          [
           192
          ],
          [
           822
          ],
          [
           553
          ],
          [
           117
          ],
          [
           105
          ],
          [
           712
          ],
          [
           5
          ],
          [
           53
          ],
          [
           226
          ],
          [
           19
          ],
          [
           298
          ],
          [
           1332
          ],
          [
           59
          ],
          [
           364
          ],
          [
           18
          ],
          [
           176
          ],
          [
           136
          ],
          [
           51
          ],
          [
           18
          ]
         ],
         "geo": "geo",
         "hovertemplate": "<b>%{hovertext}</b><br><br>state=%{location}<br>Number of Complaints=%{z}<extra></extra>",
         "hovertext": [
          "AE",
          "AK",
          "AL",
          "AR",
          "AZ",
          "CA",
          "CO",
          "CT",
          "DC",
          "DE",
          "FL",
          "FM",
          "GA",
          "GU",
          "HI",
          "IA",
          "ID",
          "IL",
          "IN",
          "KS",
          "KY",
          "LA",
          "MA",
          "MD",
          "ME",
          "MI",
          "MN",
          "MO",
          "MS",
          "MT",
          "NC",
          "ND",
          "NE",
          "NH",
          "NJ",
          "NM",
          "NV",
          "NY",
          "OH",
          "OK",
          "OR",
          "PA",
          "PR",
          "RI",
          "SC",
          "SD",
          "TN",
          "TX",
          "UT",
          "VA",
          "VT",
          "WA",
          "WI",
          "WV",
          "WY"
         ],
         "locationmode": "USA-states",
         "locations": [
          "AE",
          "AK",
          "AL",
          "AR",
          "AZ",
          "CA",
          "CO",
          "CT",
          "DC",
          "DE",
          "FL",
          "FM",
          "GA",
          "GU",
          "HI",
          "IA",
          "ID",
          "IL",
          "IN",
          "KS",
          "KY",
          "LA",
          "MA",
          "MD",
          "ME",
          "MI",
          "MN",
          "MO",
          "MS",
          "MT",
          "NC",
          "ND",
          "NE",
          "NH",
          "NJ",
          "NM",
          "NV",
          "NY",
          "OH",
          "OK",
          "OR",
          "PA",
          "PR",
          "RI",
          "SC",
          "SD",
          "TN",
          "TX",
          "UT",
          "VA",
          "VT",
          "WA",
          "WI",
          "WV",
          "WY"
         ],
         "name": "",
         "type": "choropleth",
         "z": [
          3,
          15,
          194,
          138,
          351,
          1551,
          206,
          193,
          71,
          104,
          1529,
          1,
          867,
          1,
          30,
          49,
          28,
          672,
          155,
          67,
          85,
          185,
          318,
          423,
          38,
          554,
          137,
          221,
          133,
          23,
          517,
          24,
          33,
          32,
          606,
          43,
          192,
          822,
          553,
          117,
          105,
          712,
          5,
          53,
          226,
          19,
          298,
          1332,
          59,
          364,
          18,
          176,
          136,
          51,
          18
         ]
        }
       ],
       "layout": {
        "coloraxis": {
         "colorbar": {
          "title": {
           "text": "Number of Complaints"
          }
         },
         "colorscale": [
          [
           0,
           "rgb(247,251,255)"
          ],
          [
           0.125,
           "rgb(222,235,247)"
          ],
          [
           0.25,
           "rgb(198,219,239)"
          ],
          [
           0.375,
           "rgb(158,202,225)"
          ],
          [
           0.5,
           "rgb(107,174,214)"
          ],
          [
           0.625,
           "rgb(66,146,198)"
          ],
          [
           0.75,
           "rgb(33,113,181)"
          ],
          [
           0.875,
           "rgb(8,81,156)"
          ],
          [
           1,
           "rgb(8,48,107)"
          ]
         ]
        },
        "geo": {
         "center": {},
         "domain": {
          "x": [
           0,
           1
          ],
          "y": [
           0,
           1
          ]
         },
         "scope": "usa"
        },
        "legend": {
         "tracegroupgap": 0
        },
        "template": {
         "data": {
          "bar": [
           {
            "error_x": {
             "color": "#2a3f5f"
            },
            "error_y": {
             "color": "#2a3f5f"
            },
            "marker": {
             "line": {
              "color": "#E5ECF6",
              "width": 0.5
             },
             "pattern": {
              "fillmode": "overlay",
              "size": 10,
              "solidity": 0.2
             }
            },
            "type": "bar"
           }
          ],
          "barpolar": [
           {
            "marker": {
             "line": {
              "color": "#E5ECF6",
              "width": 0.5
             },
             "pattern": {
              "fillmode": "overlay",
              "size": 10,
              "solidity": 0.2
             }
            },
            "type": "barpolar"
           }
          ],
          "carpet": [
           {
            "aaxis": {
             "endlinecolor": "#2a3f5f",
             "gridcolor": "white",
             "linecolor": "white",
             "minorgridcolor": "white",
             "startlinecolor": "#2a3f5f"
            },
            "baxis": {
             "endlinecolor": "#2a3f5f",
             "gridcolor": "white",
             "linecolor": "white",
             "minorgridcolor": "white",
             "startlinecolor": "#2a3f5f"
            },
            "type": "carpet"
           }
          ],
          "choropleth": [
           {
            "colorbar": {
             "outlinewidth": 0,
             "ticks": ""
            },
            "type": "choropleth"
           }
          ],
          "contour": [
           {
            "colorbar": {
             "outlinewidth": 0,
             "ticks": ""
            },
            "colorscale": [
             [
              0,
              "#0d0887"
             ],
             [
              0.1111111111111111,
              "#46039f"
             ],
             [
              0.2222222222222222,
              "#7201a8"
             ],
             [
              0.3333333333333333,
              "#9c179e"
             ],
             [
              0.4444444444444444,
              "#bd3786"
             ],
             [
              0.5555555555555556,
              "#d8576b"
             ],
             [
              0.6666666666666666,
              "#ed7953"
             ],
             [
              0.7777777777777778,
              "#fb9f3a"
             ],
             [
              0.8888888888888888,
              "#fdca26"
             ],
             [
              1,
              "#f0f921"
             ]
            ],
            "type": "contour"
           }
          ],
          "contourcarpet": [
           {
            "colorbar": {
             "outlinewidth": 0,
             "ticks": ""
            },
            "type": "contourcarpet"
           }
          ],
          "heatmap": [
           {
            "colorbar": {
             "outlinewidth": 0,
             "ticks": ""
            },
            "colorscale": [
             [
              0,
              "#0d0887"
             ],
             [
              0.1111111111111111,
              "#46039f"
             ],
             [
              0.2222222222222222,
              "#7201a8"
             ],
             [
              0.3333333333333333,
              "#9c179e"
             ],
             [
              0.4444444444444444,
              "#bd3786"
             ],
             [
              0.5555555555555556,
              "#d8576b"
             ],
             [
              0.6666666666666666,
              "#ed7953"
             ],
             [
              0.7777777777777778,
              "#fb9f3a"
             ],
             [
              0.8888888888888888,
              "#fdca26"
             ],
             [
              1,
              "#f0f921"
             ]
            ],
            "type": "heatmap"
           }
          ],
          "heatmapgl": [
           {
            "colorbar": {
             "outlinewidth": 0,
             "ticks": ""
            },
            "colorscale": [
             [
              0,
              "#0d0887"
             ],
             [
              0.1111111111111111,
              "#46039f"
             ],
             [
              0.2222222222222222,
              "#7201a8"
             ],
             [
              0.3333333333333333,
              "#9c179e"
             ],
             [
              0.4444444444444444,
              "#bd3786"
             ],
             [
              0.5555555555555556,
              "#d8576b"
             ],
             [
              0.6666666666666666,
              "#ed7953"
             ],
             [
              0.7777777777777778,
              "#fb9f3a"
             ],
             [
              0.8888888888888888,
              "#fdca26"
             ],
             [
              1,
              "#f0f921"
             ]
            ],
            "type": "heatmapgl"
           }
          ],
          "histogram": [
           {
            "marker": {
             "pattern": {
              "fillmode": "overlay",
              "size": 10,
              "solidity": 0.2
             }
            },
            "type": "histogram"
           }
          ],
          "histogram2d": [
           {
            "colorbar": {
             "outlinewidth": 0,
             "ticks": ""
            },
            "colorscale": [
             [
              0,
              "#0d0887"
             ],
             [
              0.1111111111111111,
              "#46039f"
             ],
             [
              0.2222222222222222,
              "#7201a8"
             ],
             [
              0.3333333333333333,
              "#9c179e"
             ],
             [
              0.4444444444444444,
              "#bd3786"
             ],
             [
              0.5555555555555556,
              "#d8576b"
             ],
             [
              0.6666666666666666,
              "#ed7953"
             ],
             [
              0.7777777777777778,
              "#fb9f3a"
             ],
             [
              0.8888888888888888,
              "#fdca26"
             ],
             [
              1,
              "#f0f921"
             ]
            ],
            "type": "histogram2d"
           }
          ],
          "histogram2dcontour": [
           {
            "colorbar": {
             "outlinewidth": 0,
             "ticks": ""
            },
            "colorscale": [
             [
              0,
              "#0d0887"
             ],
             [
              0.1111111111111111,
              "#46039f"
             ],
             [
              0.2222222222222222,
              "#7201a8"
             ],
             [
              0.3333333333333333,
              "#9c179e"
             ],
             [
              0.4444444444444444,
              "#bd3786"
             ],
             [
              0.5555555555555556,
              "#d8576b"
             ],
             [
              0.6666666666666666,
              "#ed7953"
             ],
             [
              0.7777777777777778,
              "#fb9f3a"
             ],
             [
              0.8888888888888888,
              "#fdca26"
             ],
             [
              1,
              "#f0f921"
             ]
            ],
            "type": "histogram2dcontour"
           }
          ],
          "mesh3d": [
           {
            "colorbar": {
             "outlinewidth": 0,
             "ticks": ""
            },
            "type": "mesh3d"
           }
          ],
          "parcoords": [
           {
            "line": {
             "colorbar": {
              "outlinewidth": 0,
              "ticks": ""
             }
            },
            "type": "parcoords"
           }
          ],
          "pie": [
           {
            "automargin": true,
            "type": "pie"
           }
          ],
          "scatter": [
           {
            "fillpattern": {
             "fillmode": "overlay",
             "size": 10,
             "solidity": 0.2
            },
            "type": "scatter"
           }
          ],
          "scatter3d": [
           {
            "line": {
             "colorbar": {
              "outlinewidth": 0,
              "ticks": ""
             }
            },
            "marker": {
             "colorbar": {
              "outlinewidth": 0,
              "ticks": ""
             }
            },
            "type": "scatter3d"
           }
          ],
          "scattercarpet": [
           {
            "marker": {
             "colorbar": {
              "outlinewidth": 0,
              "ticks": ""
             }
            },
            "type": "scattercarpet"
           }
          ],
          "scattergeo": [
           {
            "marker": {
             "colorbar": {
              "outlinewidth": 0,
              "ticks": ""
             }
            },
            "type": "scattergeo"
           }
          ],
          "scattergl": [
           {
            "marker": {
             "colorbar": {
              "outlinewidth": 0,
              "ticks": ""
             }
            },
            "type": "scattergl"
           }
          ],
          "scattermapbox": [
           {
            "marker": {
             "colorbar": {
              "outlinewidth": 0,
              "ticks": ""
             }
            },
            "type": "scattermapbox"
           }
          ],
          "scatterpolar": [
           {
            "marker": {
             "colorbar": {
              "outlinewidth": 0,
              "ticks": ""
             }
            },
            "type": "scatterpolar"
           }
          ],
          "scatterpolargl": [
           {
            "marker": {
             "colorbar": {
              "outlinewidth": 0,
              "ticks": ""
             }
            },
            "type": "scatterpolargl"
           }
          ],
          "scatterternary": [
           {
            "marker": {
             "colorbar": {
              "outlinewidth": 0,
              "ticks": ""
             }
            },
            "type": "scatterternary"
           }
          ],
          "surface": [
           {
            "colorbar": {
             "outlinewidth": 0,
             "ticks": ""
            },
            "colorscale": [
             [
              0,
              "#0d0887"
             ],
             [
              0.1111111111111111,
              "#46039f"
             ],
             [
              0.2222222222222222,
              "#7201a8"
             ],
             [
              0.3333333333333333,
              "#9c179e"
             ],
             [
              0.4444444444444444,
              "#bd3786"
             ],
             [
              0.5555555555555556,
              "#d8576b"
             ],
             [
              0.6666666666666666,
              "#ed7953"
             ],
             [
              0.7777777777777778,
              "#fb9f3a"
             ],
             [
              0.8888888888888888,
              "#fdca26"
             ],
             [
              1,
              "#f0f921"
             ]
            ],
            "type": "surface"
           }
          ],
          "table": [
           {
            "cells": {
             "fill": {
              "color": "#EBF0F8"
             },
             "line": {
              "color": "white"
             }
            },
            "header": {
             "fill": {
              "color": "#C8D4E3"
             },
             "line": {
              "color": "white"
             }
            },
            "type": "table"
           }
          ]
         },
         "layout": {
          "annotationdefaults": {
           "arrowcolor": "#2a3f5f",
           "arrowhead": 0,
           "arrowwidth": 1
          },
          "autotypenumbers": "strict",
          "coloraxis": {
           "colorbar": {
            "outlinewidth": 0,
            "ticks": ""
           }
          },
          "colorscale": {
           "diverging": [
            [
             0,
             "#8e0152"
            ],
            [
             0.1,
             "#c51b7d"
            ],
            [
             0.2,
             "#de77ae"
            ],
            [
             0.3,
             "#f1b6da"
            ],
            [
             0.4,
             "#fde0ef"
            ],
            [
             0.5,
             "#f7f7f7"
            ],
            [
             0.6,
             "#e6f5d0"
            ],
            [
             0.7,
             "#b8e186"
            ],
            [
             0.8,
             "#7fbc41"
            ],
            [
             0.9,
             "#4d9221"
            ],
            [
             1,
             "#276419"
            ]
           ],
           "sequential": [
            [
             0,
             "#0d0887"
            ],
            [
             0.1111111111111111,
             "#46039f"
            ],
            [
             0.2222222222222222,
             "#7201a8"
            ],
            [
             0.3333333333333333,
             "#9c179e"
            ],
            [
             0.4444444444444444,
             "#bd3786"
            ],
            [
             0.5555555555555556,
             "#d8576b"
            ],
            [
             0.6666666666666666,
             "#ed7953"
            ],
            [
             0.7777777777777778,
             "#fb9f3a"
            ],
            [
             0.8888888888888888,
             "#fdca26"
            ],
            [
             1,
             "#f0f921"
            ]
           ],
           "sequentialminus": [
            [
             0,
             "#0d0887"
            ],
            [
             0.1111111111111111,
             "#46039f"
            ],
            [
             0.2222222222222222,
             "#7201a8"
            ],
            [
             0.3333333333333333,
             "#9c179e"
            ],
            [
             0.4444444444444444,
             "#bd3786"
            ],
            [
             0.5555555555555556,
             "#d8576b"
            ],
            [
             0.6666666666666666,
             "#ed7953"
            ],
            [
             0.7777777777777778,
             "#fb9f3a"
            ],
            [
             0.8888888888888888,
             "#fdca26"
            ],
            [
             1,
             "#f0f921"
            ]
           ]
          },
          "colorway": [
           "#636efa",
           "#EF553B",
           "#00cc96",
           "#ab63fa",
           "#FFA15A",
           "#19d3f3",
           "#FF6692",
           "#B6E880",
           "#FF97FF",
           "#FECB52"
          ],
          "font": {
           "color": "#2a3f5f"
          },
          "geo": {
           "bgcolor": "white",
           "lakecolor": "white",
           "landcolor": "#E5ECF6",
           "showlakes": true,
           "showland": true,
           "subunitcolor": "white"
          },
          "hoverlabel": {
           "align": "left"
          },
          "hovermode": "closest",
          "mapbox": {
           "style": "light"
          },
          "paper_bgcolor": "white",
          "plot_bgcolor": "#E5ECF6",
          "polar": {
           "angularaxis": {
            "gridcolor": "white",
            "linecolor": "white",
            "ticks": ""
           },
           "bgcolor": "#E5ECF6",
           "radialaxis": {
            "gridcolor": "white",
            "linecolor": "white",
            "ticks": ""
           }
          },
          "scene": {
           "xaxis": {
            "backgroundcolor": "#E5ECF6",
            "gridcolor": "white",
            "gridwidth": 2,
            "linecolor": "white",
            "showbackground": true,
            "ticks": "",
            "zerolinecolor": "white"
           },
           "yaxis": {
            "backgroundcolor": "#E5ECF6",
            "gridcolor": "white",
            "gridwidth": 2,
            "linecolor": "white",
            "showbackground": true,
            "ticks": "",
            "zerolinecolor": "white"
           },
           "zaxis": {
            "backgroundcolor": "#E5ECF6",
            "gridcolor": "white",
            "gridwidth": 2,
            "linecolor": "white",
            "showbackground": true,
            "ticks": "",
            "zerolinecolor": "white"
           }
          },
          "shapedefaults": {
           "line": {
            "color": "#2a3f5f"
           }
          },
          "ternary": {
           "aaxis": {
            "gridcolor": "white",
            "linecolor": "white",
            "ticks": ""
           },
           "baxis": {
            "gridcolor": "white",
            "linecolor": "white",
            "ticks": ""
           },
           "bgcolor": "#E5ECF6",
           "caxis": {
            "gridcolor": "white",
            "linecolor": "white",
            "ticks": ""
           }
          },
          "title": {
           "x": 0.05
          },
          "xaxis": {
           "automargin": true,
           "gridcolor": "white",
           "linecolor": "white",
           "ticks": "",
           "title": {
            "standoff": 15
           },
           "zerolinecolor": "white",
           "zerolinewidth": 2
          },
          "yaxis": {
           "automargin": true,
           "gridcolor": "white",
           "linecolor": "white",
           "ticks": "",
           "title": {
            "standoff": 15
           },
           "zerolinecolor": "white",
           "zerolinewidth": 2
          }
         }
        },
        "title": {
         "text": "Distribution of Complaints by State in the USA"
        }
       }
      }
     },
     "metadata": {},
     "output_type": "display_data"
    }
   ],
   "source": [
    "import plotly.express as px\n",
    "\n",
    "# Create the choropleth map\n",
    "fig = px.choropleth(complaints_by_state, \n",
    "                    locations='state', \n",
    "                    color='count',\n",
    "                    locationmode='USA-states',\n",
    "                    scope='usa',\n",
    "                    color_continuous_scale='Blues',\n",
    "                    labels={'count':'Number of Complaints'},\n",
    "                    hover_name='state',\n",
    "                    hover_data=['count'],\n",
    "                    title='Distribution of Complaints by State in the USA')\n",
    "\n",
    "# Show the map\n",
    "fig.show()"
   ]
  },
  {
   "cell_type": "code",
   "execution_count": null,
   "metadata": {},
   "outputs": [],
   "source": []
  }
 ],
 "metadata": {
  "kernelspec": {
   "display_name": "base",
   "language": "python",
   "name": "python3"
  },
  "language_info": {
   "codemirror_mode": {
    "name": "ipython",
    "version": 3
   },
   "file_extension": ".py",
   "mimetype": "text/x-python",
   "name": "python",
   "nbconvert_exporter": "python",
   "pygments_lexer": "ipython3",
   "version": "3.11.4"
  },
  "orig_nbformat": 4
 },
 "nbformat": 4,
 "nbformat_minor": 2
}
